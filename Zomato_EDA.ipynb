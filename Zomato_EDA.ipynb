{
 "cells": [
  {
   "cell_type": "code",
   "execution_count": 1,
   "id": "58358c73",
   "metadata": {},
   "outputs": [],
   "source": [
    "# This dataset containing information of food restraunts in banglaore who are working with Zomato.\n",
    "# for each neighborhood there are 6-7 categories of restaurants viz.\n",
    "# Buffet, Cafes, Delivery, Desserts, Dine-out, Drinks & nightlife, Pubs and bars.\n",
    "# So, here we are trying to find the best restaurants for customer depends on their need."
   ]
  },
  {
   "cell_type": "code",
   "execution_count": 2,
   "id": "c65e139a",
   "metadata": {},
   "outputs": [],
   "source": [
    "import numpy as np # linear algebra\n",
    "import pandas as pd # data processing, CSV file I/O (e.g. pd.read_csv)\n",
    "import seaborn as sns\n",
    "import matplotlib.pyplot as plt\n",
    "%matplotlib inline"
   ]
  },
  {
   "cell_type": "code",
   "execution_count": 3,
   "id": "3f92c1d9",
   "metadata": {},
   "outputs": [],
   "source": [
    "zm=pd.read_csv('E:\\project\\zomato_EDA\\zomato.csv')"
   ]
  },
  {
   "cell_type": "code",
   "execution_count": 4,
   "id": "8a0eefd8",
   "metadata": {},
   "outputs": [
    {
     "name": "stdout",
     "output_type": "stream",
     "text": [
      "<class 'pandas.core.frame.DataFrame'>\n",
      "RangeIndex: 51717 entries, 0 to 51716\n",
      "Data columns (total 17 columns):\n",
      " #   Column                       Non-Null Count  Dtype \n",
      "---  ------                       --------------  ----- \n",
      " 0   url                          51717 non-null  object\n",
      " 1   address                      51717 non-null  object\n",
      " 2   name                         51717 non-null  object\n",
      " 3   online_order                 51717 non-null  object\n",
      " 4   book_table                   51717 non-null  object\n",
      " 5   rate                         43942 non-null  object\n",
      " 6   votes                        51717 non-null  int64 \n",
      " 7   phone                        50509 non-null  object\n",
      " 8   location                     51696 non-null  object\n",
      " 9   rest_type                    51490 non-null  object\n",
      " 10  dish_liked                   23639 non-null  object\n",
      " 11  cuisines                     51672 non-null  object\n",
      " 12  approx_cost(for two people)  51371 non-null  object\n",
      " 13  reviews_list                 51717 non-null  object\n",
      " 14  menu_item                    51717 non-null  object\n",
      " 15  listed_in(type)              51717 non-null  object\n",
      " 16  listed_in(city)              51717 non-null  object\n",
      "dtypes: int64(1), object(16)\n",
      "memory usage: 6.7+ MB\n"
     ]
    }
   ],
   "source": [
    "zm.info()"
   ]
  },
  {
   "cell_type": "code",
   "execution_count": 5,
   "id": "8968e176",
   "metadata": {},
   "outputs": [
    {
     "data": {
      "text/html": [
       "<div>\n",
       "<style scoped>\n",
       "    .dataframe tbody tr th:only-of-type {\n",
       "        vertical-align: middle;\n",
       "    }\n",
       "\n",
       "    .dataframe tbody tr th {\n",
       "        vertical-align: top;\n",
       "    }\n",
       "\n",
       "    .dataframe thead th {\n",
       "        text-align: right;\n",
       "    }\n",
       "</style>\n",
       "<table border=\"1\" class=\"dataframe\">\n",
       "  <thead>\n",
       "    <tr style=\"text-align: right;\">\n",
       "      <th></th>\n",
       "      <th>url</th>\n",
       "      <th>address</th>\n",
       "      <th>name</th>\n",
       "      <th>online_order</th>\n",
       "      <th>book_table</th>\n",
       "      <th>rate</th>\n",
       "      <th>votes</th>\n",
       "      <th>phone</th>\n",
       "      <th>location</th>\n",
       "      <th>rest_type</th>\n",
       "      <th>dish_liked</th>\n",
       "      <th>cuisines</th>\n",
       "      <th>approx_cost(for two people)</th>\n",
       "      <th>reviews_list</th>\n",
       "      <th>menu_item</th>\n",
       "      <th>listed_in(type)</th>\n",
       "      <th>listed_in(city)</th>\n",
       "    </tr>\n",
       "  </thead>\n",
       "  <tbody>\n",
       "    <tr>\n",
       "      <th>0</th>\n",
       "      <td>https://www.zomato.com/bangalore/jalsa-banasha...</td>\n",
       "      <td>942, 21st Main Road, 2nd Stage, Banashankari, ...</td>\n",
       "      <td>Jalsa</td>\n",
       "      <td>Yes</td>\n",
       "      <td>Yes</td>\n",
       "      <td>4.1/5</td>\n",
       "      <td>775</td>\n",
       "      <td>080 42297555\\r\\n+91 9743772233</td>\n",
       "      <td>Banashankari</td>\n",
       "      <td>Casual Dining</td>\n",
       "      <td>Pasta, Lunch Buffet, Masala Papad, Paneer Laja...</td>\n",
       "      <td>North Indian, Mughlai, Chinese</td>\n",
       "      <td>800</td>\n",
       "      <td>[('Rated 4.0', 'RATED\\n  A beautiful place to ...</td>\n",
       "      <td>[]</td>\n",
       "      <td>Buffet</td>\n",
       "      <td>Banashankari</td>\n",
       "    </tr>\n",
       "    <tr>\n",
       "      <th>1</th>\n",
       "      <td>https://www.zomato.com/bangalore/spice-elephan...</td>\n",
       "      <td>2nd Floor, 80 Feet Road, Near Big Bazaar, 6th ...</td>\n",
       "      <td>Spice Elephant</td>\n",
       "      <td>Yes</td>\n",
       "      <td>No</td>\n",
       "      <td>4.1/5</td>\n",
       "      <td>787</td>\n",
       "      <td>080 41714161</td>\n",
       "      <td>Banashankari</td>\n",
       "      <td>Casual Dining</td>\n",
       "      <td>Momos, Lunch Buffet, Chocolate Nirvana, Thai G...</td>\n",
       "      <td>Chinese, North Indian, Thai</td>\n",
       "      <td>800</td>\n",
       "      <td>[('Rated 4.0', 'RATED\\n  Had been here for din...</td>\n",
       "      <td>[]</td>\n",
       "      <td>Buffet</td>\n",
       "      <td>Banashankari</td>\n",
       "    </tr>\n",
       "    <tr>\n",
       "      <th>2</th>\n",
       "      <td>https://www.zomato.com/SanchurroBangalore?cont...</td>\n",
       "      <td>1112, Next to KIMS Medical College, 17th Cross...</td>\n",
       "      <td>San Churro Cafe</td>\n",
       "      <td>Yes</td>\n",
       "      <td>No</td>\n",
       "      <td>3.8/5</td>\n",
       "      <td>918</td>\n",
       "      <td>+91 9663487993</td>\n",
       "      <td>Banashankari</td>\n",
       "      <td>Cafe, Casual Dining</td>\n",
       "      <td>Churros, Cannelloni, Minestrone Soup, Hot Choc...</td>\n",
       "      <td>Cafe, Mexican, Italian</td>\n",
       "      <td>800</td>\n",
       "      <td>[('Rated 3.0', \"RATED\\n  Ambience is not that ...</td>\n",
       "      <td>[]</td>\n",
       "      <td>Buffet</td>\n",
       "      <td>Banashankari</td>\n",
       "    </tr>\n",
       "    <tr>\n",
       "      <th>3</th>\n",
       "      <td>https://www.zomato.com/bangalore/addhuri-udupi...</td>\n",
       "      <td>1st Floor, Annakuteera, 3rd Stage, Banashankar...</td>\n",
       "      <td>Addhuri Udupi Bhojana</td>\n",
       "      <td>No</td>\n",
       "      <td>No</td>\n",
       "      <td>3.7/5</td>\n",
       "      <td>88</td>\n",
       "      <td>+91 9620009302</td>\n",
       "      <td>Banashankari</td>\n",
       "      <td>Quick Bites</td>\n",
       "      <td>Masala Dosa</td>\n",
       "      <td>South Indian, North Indian</td>\n",
       "      <td>300</td>\n",
       "      <td>[('Rated 4.0', \"RATED\\n  Great food and proper...</td>\n",
       "      <td>[]</td>\n",
       "      <td>Buffet</td>\n",
       "      <td>Banashankari</td>\n",
       "    </tr>\n",
       "    <tr>\n",
       "      <th>4</th>\n",
       "      <td>https://www.zomato.com/bangalore/grand-village...</td>\n",
       "      <td>10, 3rd Floor, Lakshmi Associates, Gandhi Baza...</td>\n",
       "      <td>Grand Village</td>\n",
       "      <td>No</td>\n",
       "      <td>No</td>\n",
       "      <td>3.8/5</td>\n",
       "      <td>166</td>\n",
       "      <td>+91 8026612447\\r\\n+91 9901210005</td>\n",
       "      <td>Basavanagudi</td>\n",
       "      <td>Casual Dining</td>\n",
       "      <td>Panipuri, Gol Gappe</td>\n",
       "      <td>North Indian, Rajasthani</td>\n",
       "      <td>600</td>\n",
       "      <td>[('Rated 4.0', 'RATED\\n  Very good restaurant ...</td>\n",
       "      <td>[]</td>\n",
       "      <td>Buffet</td>\n",
       "      <td>Banashankari</td>\n",
       "    </tr>\n",
       "  </tbody>\n",
       "</table>\n",
       "</div>"
      ],
      "text/plain": [
       "                                                 url  \\\n",
       "0  https://www.zomato.com/bangalore/jalsa-banasha...   \n",
       "1  https://www.zomato.com/bangalore/spice-elephan...   \n",
       "2  https://www.zomato.com/SanchurroBangalore?cont...   \n",
       "3  https://www.zomato.com/bangalore/addhuri-udupi...   \n",
       "4  https://www.zomato.com/bangalore/grand-village...   \n",
       "\n",
       "                                             address                   name  \\\n",
       "0  942, 21st Main Road, 2nd Stage, Banashankari, ...                  Jalsa   \n",
       "1  2nd Floor, 80 Feet Road, Near Big Bazaar, 6th ...         Spice Elephant   \n",
       "2  1112, Next to KIMS Medical College, 17th Cross...        San Churro Cafe   \n",
       "3  1st Floor, Annakuteera, 3rd Stage, Banashankar...  Addhuri Udupi Bhojana   \n",
       "4  10, 3rd Floor, Lakshmi Associates, Gandhi Baza...          Grand Village   \n",
       "\n",
       "  online_order book_table   rate  votes                             phone  \\\n",
       "0          Yes        Yes  4.1/5    775    080 42297555\\r\\n+91 9743772233   \n",
       "1          Yes         No  4.1/5    787                      080 41714161   \n",
       "2          Yes         No  3.8/5    918                    +91 9663487993   \n",
       "3           No         No  3.7/5     88                    +91 9620009302   \n",
       "4           No         No  3.8/5    166  +91 8026612447\\r\\n+91 9901210005   \n",
       "\n",
       "       location            rest_type  \\\n",
       "0  Banashankari        Casual Dining   \n",
       "1  Banashankari        Casual Dining   \n",
       "2  Banashankari  Cafe, Casual Dining   \n",
       "3  Banashankari          Quick Bites   \n",
       "4  Basavanagudi        Casual Dining   \n",
       "\n",
       "                                          dish_liked  \\\n",
       "0  Pasta, Lunch Buffet, Masala Papad, Paneer Laja...   \n",
       "1  Momos, Lunch Buffet, Chocolate Nirvana, Thai G...   \n",
       "2  Churros, Cannelloni, Minestrone Soup, Hot Choc...   \n",
       "3                                        Masala Dosa   \n",
       "4                                Panipuri, Gol Gappe   \n",
       "\n",
       "                         cuisines approx_cost(for two people)  \\\n",
       "0  North Indian, Mughlai, Chinese                         800   \n",
       "1     Chinese, North Indian, Thai                         800   \n",
       "2          Cafe, Mexican, Italian                         800   \n",
       "3      South Indian, North Indian                         300   \n",
       "4        North Indian, Rajasthani                         600   \n",
       "\n",
       "                                        reviews_list menu_item  \\\n",
       "0  [('Rated 4.0', 'RATED\\n  A beautiful place to ...        []   \n",
       "1  [('Rated 4.0', 'RATED\\n  Had been here for din...        []   \n",
       "2  [('Rated 3.0', \"RATED\\n  Ambience is not that ...        []   \n",
       "3  [('Rated 4.0', \"RATED\\n  Great food and proper...        []   \n",
       "4  [('Rated 4.0', 'RATED\\n  Very good restaurant ...        []   \n",
       "\n",
       "  listed_in(type) listed_in(city)  \n",
       "0          Buffet    Banashankari  \n",
       "1          Buffet    Banashankari  \n",
       "2          Buffet    Banashankari  \n",
       "3          Buffet    Banashankari  \n",
       "4          Buffet    Banashankari  "
      ]
     },
     "execution_count": 5,
     "metadata": {},
     "output_type": "execute_result"
    }
   ],
   "source": [
    "zm.head()"
   ]
  },
  {
   "cell_type": "code",
   "execution_count": 6,
   "id": "54a5f308",
   "metadata": {},
   "outputs": [
    {
     "data": {
      "text/plain": [
       "(51717, 17)"
      ]
     },
     "execution_count": 6,
     "metadata": {},
     "output_type": "execute_result"
    }
   ],
   "source": [
    "zm.shape"
   ]
  },
  {
   "cell_type": "code",
   "execution_count": 7,
   "id": "e71190f3",
   "metadata": {},
   "outputs": [],
   "source": [
    "### Deleting redundant columns\n",
    "### Renaming the columns\n",
    "### Dropping duplicates\n",
    "### Cleaning the individual columns\n",
    "### Remove the NaN values from the dataset\n",
    "### Check for some more transformations"
   ]
  },
  {
   "cell_type": "code",
   "execution_count": 8,
   "id": "2d1b4ed2",
   "metadata": {},
   "outputs": [
    {
     "data": {
      "text/plain": [
       "Index(['url', 'address', 'name', 'online_order', 'book_table', 'rate', 'votes',\n",
       "       'phone', 'location', 'rest_type', 'dish_liked', 'cuisines',\n",
       "       'approx_cost(for two people)', 'reviews_list', 'menu_item',\n",
       "       'listed_in(type)', 'listed_in(city)'],\n",
       "      dtype='object')"
      ]
     },
     "execution_count": 8,
     "metadata": {},
     "output_type": "execute_result"
    }
   ],
   "source": [
    "zm.columns"
   ]
  },
  {
   "cell_type": "code",
   "execution_count": 9,
   "id": "0dbf5dda",
   "metadata": {},
   "outputs": [
    {
     "data": {
      "text/plain": [
       "RangeIndex(start=0, stop=51717, step=1)"
      ]
     },
     "execution_count": 9,
     "metadata": {},
     "output_type": "execute_result"
    }
   ],
   "source": [
    "zm.index"
   ]
  },
  {
   "cell_type": "code",
   "execution_count": 10,
   "id": "f5aa734d",
   "metadata": {},
   "outputs": [
    {
     "data": {
      "text/html": [
       "<div>\n",
       "<style scoped>\n",
       "    .dataframe tbody tr th:only-of-type {\n",
       "        vertical-align: middle;\n",
       "    }\n",
       "\n",
       "    .dataframe tbody tr th {\n",
       "        vertical-align: top;\n",
       "    }\n",
       "\n",
       "    .dataframe thead th {\n",
       "        text-align: right;\n",
       "    }\n",
       "</style>\n",
       "<table border=\"1\" class=\"dataframe\">\n",
       "  <thead>\n",
       "    <tr style=\"text-align: right;\">\n",
       "      <th></th>\n",
       "      <th>url</th>\n",
       "      <th>address</th>\n",
       "      <th>name</th>\n",
       "      <th>online_order</th>\n",
       "      <th>book_table</th>\n",
       "      <th>rate</th>\n",
       "      <th>votes</th>\n",
       "      <th>phone</th>\n",
       "      <th>location</th>\n",
       "      <th>rest_type</th>\n",
       "      <th>dish_liked</th>\n",
       "      <th>cuisines</th>\n",
       "      <th>approx_cost(for two people)</th>\n",
       "      <th>reviews_list</th>\n",
       "      <th>menu_item</th>\n",
       "      <th>listed_in(type)</th>\n",
       "      <th>listed_in(city)</th>\n",
       "    </tr>\n",
       "  </thead>\n",
       "  <tbody>\n",
       "  </tbody>\n",
       "</table>\n",
       "</div>"
      ],
      "text/plain": [
       "Empty DataFrame\n",
       "Columns: [url, address, name, online_order, book_table, rate, votes, phone, location, rest_type, dish_liked, cuisines, approx_cost(for two people), reviews_list, menu_item, listed_in(type), listed_in(city)]\n",
       "Index: []"
      ]
     },
     "execution_count": 10,
     "metadata": {},
     "output_type": "execute_result"
    }
   ],
   "source": [
    "zm.loc[zm.phone=='8088391883']"
   ]
  },
  {
   "cell_type": "code",
   "execution_count": 11,
   "id": "e78cad98",
   "metadata": {},
   "outputs": [],
   "source": [
    "#Checking the null values by columns:-\n",
    "#Here we will get to know the count of null value column by column."
   ]
  },
  {
   "cell_type": "code",
   "execution_count": 12,
   "id": "e8b9f004",
   "metadata": {
    "scrolled": true
   },
   "outputs": [
    {
     "data": {
      "text/plain": [
       "url                                0\n",
       "address                            0\n",
       "name                               0\n",
       "online_order                       0\n",
       "book_table                         0\n",
       "rate                            7775\n",
       "votes                              0\n",
       "phone                           1208\n",
       "location                          21\n",
       "rest_type                        227\n",
       "dish_liked                     28078\n",
       "cuisines                          45\n",
       "approx_cost(for two people)      346\n",
       "reviews_list                       0\n",
       "menu_item                          0\n",
       "listed_in(type)                    0\n",
       "listed_in(city)                    0\n",
       "dtype: int64"
      ]
     },
     "execution_count": 12,
     "metadata": {},
     "output_type": "execute_result"
    }
   ],
   "source": [
    "zm.isnull().sum()"
   ]
  },
  {
   "cell_type": "code",
   "execution_count": 13,
   "id": "c83e0d9e",
   "metadata": {},
   "outputs": [
    {
     "data": {
      "text/plain": [
       "<AxesSubplot:>"
      ]
     },
     "execution_count": 13,
     "metadata": {},
     "output_type": "execute_result"
    },
    {
     "data": {
      "image/png": "[encoded data removed]",
      "text/plain": [
       "<Figure size 432x288 with 1 Axes>"
      ]
     },
     "metadata": {
      "needs_background": "light"
     },
     "output_type": "display_data"
    }
   ],
   "source": [
    "sns.heatmap(zm.isnull(),yticklabels=False,cbar=False,cmap='viridis')\n",
    "\n",
    "#alternative for checking null values"
   ]
  },
  {
   "cell_type": "code",
   "execution_count": 14,
   "id": "9631686c",
   "metadata": {},
   "outputs": [
    {
     "data": {
      "text/html": [
       "<div>\n",
       "<style scoped>\n",
       "    .dataframe tbody tr th:only-of-type {\n",
       "        vertical-align: middle;\n",
       "    }\n",
       "\n",
       "    .dataframe tbody tr th {\n",
       "        vertical-align: top;\n",
       "    }\n",
       "\n",
       "    .dataframe thead th {\n",
       "        text-align: right;\n",
       "    }\n",
       "</style>\n",
       "<table border=\"1\" class=\"dataframe\">\n",
       "  <thead>\n",
       "    <tr style=\"text-align: right;\">\n",
       "      <th></th>\n",
       "      <th>name</th>\n",
       "      <th>online_order</th>\n",
       "      <th>book_table</th>\n",
       "      <th>rate</th>\n",
       "      <th>votes</th>\n",
       "      <th>location</th>\n",
       "      <th>rest_type</th>\n",
       "      <th>cuisines</th>\n",
       "      <th>approx_cost(for two people)</th>\n",
       "      <th>listed_in(type)</th>\n",
       "      <th>listed_in(city)</th>\n",
       "    </tr>\n",
       "  </thead>\n",
       "  <tbody>\n",
       "    <tr>\n",
       "      <th>0</th>\n",
       "      <td>Jalsa</td>\n",
       "      <td>Yes</td>\n",
       "      <td>Yes</td>\n",
       "      <td>4.1/5</td>\n",
       "      <td>775</td>\n",
       "      <td>Banashankari</td>\n",
       "      <td>Casual Dining</td>\n",
       "      <td>North Indian, Mughlai, Chinese</td>\n",
       "      <td>800</td>\n",
       "      <td>Buffet</td>\n",
       "      <td>Banashankari</td>\n",
       "    </tr>\n",
       "    <tr>\n",
       "      <th>1</th>\n",
       "      <td>Spice Elephant</td>\n",
       "      <td>Yes</td>\n",
       "      <td>No</td>\n",
       "      <td>4.1/5</td>\n",
       "      <td>787</td>\n",
       "      <td>Banashankari</td>\n",
       "      <td>Casual Dining</td>\n",
       "      <td>Chinese, North Indian, Thai</td>\n",
       "      <td>800</td>\n",
       "      <td>Buffet</td>\n",
       "      <td>Banashankari</td>\n",
       "    </tr>\n",
       "    <tr>\n",
       "      <th>2</th>\n",
       "      <td>San Churro Cafe</td>\n",
       "      <td>Yes</td>\n",
       "      <td>No</td>\n",
       "      <td>3.8/5</td>\n",
       "      <td>918</td>\n",
       "      <td>Banashankari</td>\n",
       "      <td>Cafe, Casual Dining</td>\n",
       "      <td>Cafe, Mexican, Italian</td>\n",
       "      <td>800</td>\n",
       "      <td>Buffet</td>\n",
       "      <td>Banashankari</td>\n",
       "    </tr>\n",
       "  </tbody>\n",
       "</table>\n",
       "</div>"
      ],
      "text/plain": [
       "              name online_order book_table   rate  votes      location  \\\n",
       "0            Jalsa          Yes        Yes  4.1/5    775  Banashankari   \n",
       "1   Spice Elephant          Yes         No  4.1/5    787  Banashankari   \n",
       "2  San Churro Cafe          Yes         No  3.8/5    918  Banashankari   \n",
       "\n",
       "             rest_type                        cuisines  \\\n",
       "0        Casual Dining  North Indian, Mughlai, Chinese   \n",
       "1        Casual Dining     Chinese, North Indian, Thai   \n",
       "2  Cafe, Casual Dining          Cafe, Mexican, Italian   \n",
       "\n",
       "  approx_cost(for two people) listed_in(type) listed_in(city)  \n",
       "0                         800          Buffet    Banashankari  \n",
       "1                         800          Buffet    Banashankari  \n",
       "2                         800          Buffet    Banashankari  "
      ]
     },
     "execution_count": 14,
     "metadata": {},
     "output_type": "execute_result"
    }
   ],
   "source": [
    "zm.drop(['url','address','phone','menu_item','dish_liked','reviews_list'],axis=1,inplace=True)\n",
    "zm.head(3)"
   ]
  },
  {
   "cell_type": "code",
   "execution_count": 15,
   "id": "edfab950",
   "metadata": {},
   "outputs": [],
   "source": [
    "del zm['listed_in(city)']"
   ]
  },
  {
   "cell_type": "code",
   "execution_count": 16,
   "id": "7e5b32d9",
   "metadata": {},
   "outputs": [
    {
     "data": {
      "text/plain": [
       "name                              0\n",
       "online_order                      0\n",
       "book_table                        0\n",
       "rate                           7775\n",
       "votes                             0\n",
       "location                         21\n",
       "rest_type                       227\n",
       "cuisines                         45\n",
       "approx_cost(for two people)     346\n",
       "listed_in(type)                   0\n",
       "dtype: int64"
      ]
     },
     "execution_count": 16,
     "metadata": {},
     "output_type": "execute_result"
    }
   ],
   "source": [
    "zm.isnull().sum()"
   ]
  },
  {
   "cell_type": "code",
   "execution_count": 17,
   "id": "b480b539",
   "metadata": {},
   "outputs": [
    {
     "data": {
      "text/plain": [
       "8414"
      ]
     },
     "execution_count": 17,
     "metadata": {},
     "output_type": "execute_result"
    }
   ],
   "source": [
    "zm.isnull().sum().sum()"
   ]
  },
  {
   "cell_type": "code",
   "execution_count": 18,
   "id": "987cb424",
   "metadata": {},
   "outputs": [],
   "source": [
    "# Renaming columns:-\n",
    "# Changing the names of columns for better understanding"
   ]
  },
  {
   "cell_type": "code",
   "execution_count": 19,
   "id": "91c7fceb",
   "metadata": {},
   "outputs": [
    {
     "data": {
      "text/html": [
       "<div>\n",
       "<style scoped>\n",
       "    .dataframe tbody tr th:only-of-type {\n",
       "        vertical-align: middle;\n",
       "    }\n",
       "\n",
       "    .dataframe tbody tr th {\n",
       "        vertical-align: top;\n",
       "    }\n",
       "\n",
       "    .dataframe thead th {\n",
       "        text-align: right;\n",
       "    }\n",
       "</style>\n",
       "<table border=\"1\" class=\"dataframe\">\n",
       "  <thead>\n",
       "    <tr style=\"text-align: right;\">\n",
       "      <th></th>\n",
       "      <th>restaurants</th>\n",
       "      <th>online_order</th>\n",
       "      <th>booking</th>\n",
       "      <th>rating</th>\n",
       "      <th>votes</th>\n",
       "      <th>location</th>\n",
       "      <th>rest_type</th>\n",
       "      <th>cuisines</th>\n",
       "      <th>cost</th>\n",
       "      <th>types</th>\n",
       "    </tr>\n",
       "  </thead>\n",
       "  <tbody>\n",
       "    <tr>\n",
       "      <th>0</th>\n",
       "      <td>Jalsa</td>\n",
       "      <td>Yes</td>\n",
       "      <td>Yes</td>\n",
       "      <td>4.1/5</td>\n",
       "      <td>775</td>\n",
       "      <td>Banashankari</td>\n",
       "      <td>Casual Dining</td>\n",
       "      <td>North Indian, Mughlai, Chinese</td>\n",
       "      <td>800</td>\n",
       "      <td>Buffet</td>\n",
       "    </tr>\n",
       "    <tr>\n",
       "      <th>1</th>\n",
       "      <td>Spice Elephant</td>\n",
       "      <td>Yes</td>\n",
       "      <td>No</td>\n",
       "      <td>4.1/5</td>\n",
       "      <td>787</td>\n",
       "      <td>Banashankari</td>\n",
       "      <td>Casual Dining</td>\n",
       "      <td>Chinese, North Indian, Thai</td>\n",
       "      <td>800</td>\n",
       "      <td>Buffet</td>\n",
       "    </tr>\n",
       "    <tr>\n",
       "      <th>2</th>\n",
       "      <td>San Churro Cafe</td>\n",
       "      <td>Yes</td>\n",
       "      <td>No</td>\n",
       "      <td>3.8/5</td>\n",
       "      <td>918</td>\n",
       "      <td>Banashankari</td>\n",
       "      <td>Cafe, Casual Dining</td>\n",
       "      <td>Cafe, Mexican, Italian</td>\n",
       "      <td>800</td>\n",
       "      <td>Buffet</td>\n",
       "    </tr>\n",
       "    <tr>\n",
       "      <th>3</th>\n",
       "      <td>Addhuri Udupi Bhojana</td>\n",
       "      <td>No</td>\n",
       "      <td>No</td>\n",
       "      <td>3.7/5</td>\n",
       "      <td>88</td>\n",
       "      <td>Banashankari</td>\n",
       "      <td>Quick Bites</td>\n",
       "      <td>South Indian, North Indian</td>\n",
       "      <td>300</td>\n",
       "      <td>Buffet</td>\n",
       "    </tr>\n",
       "    <tr>\n",
       "      <th>4</th>\n",
       "      <td>Grand Village</td>\n",
       "      <td>No</td>\n",
       "      <td>No</td>\n",
       "      <td>3.8/5</td>\n",
       "      <td>166</td>\n",
       "      <td>Basavanagudi</td>\n",
       "      <td>Casual Dining</td>\n",
       "      <td>North Indian, Rajasthani</td>\n",
       "      <td>600</td>\n",
       "      <td>Buffet</td>\n",
       "    </tr>\n",
       "    <tr>\n",
       "      <th>5</th>\n",
       "      <td>Timepass Dinner</td>\n",
       "      <td>Yes</td>\n",
       "      <td>No</td>\n",
       "      <td>3.8/5</td>\n",
       "      <td>286</td>\n",
       "      <td>Basavanagudi</td>\n",
       "      <td>Casual Dining</td>\n",
       "      <td>North Indian</td>\n",
       "      <td>600</td>\n",
       "      <td>Buffet</td>\n",
       "    </tr>\n",
       "    <tr>\n",
       "      <th>6</th>\n",
       "      <td>Rosewood International Hotel - Bar &amp; Restaurant</td>\n",
       "      <td>No</td>\n",
       "      <td>No</td>\n",
       "      <td>3.6/5</td>\n",
       "      <td>8</td>\n",
       "      <td>Mysore Road</td>\n",
       "      <td>Casual Dining</td>\n",
       "      <td>North Indian, South Indian, Andhra, Chinese</td>\n",
       "      <td>800</td>\n",
       "      <td>Buffet</td>\n",
       "    </tr>\n",
       "    <tr>\n",
       "      <th>7</th>\n",
       "      <td>Onesta</td>\n",
       "      <td>Yes</td>\n",
       "      <td>Yes</td>\n",
       "      <td>4.6/5</td>\n",
       "      <td>2556</td>\n",
       "      <td>Banashankari</td>\n",
       "      <td>Casual Dining, Cafe</td>\n",
       "      <td>Pizza, Cafe, Italian</td>\n",
       "      <td>600</td>\n",
       "      <td>Cafes</td>\n",
       "    </tr>\n",
       "    <tr>\n",
       "      <th>8</th>\n",
       "      <td>Penthouse Cafe</td>\n",
       "      <td>Yes</td>\n",
       "      <td>No</td>\n",
       "      <td>4.0/5</td>\n",
       "      <td>324</td>\n",
       "      <td>Banashankari</td>\n",
       "      <td>Cafe</td>\n",
       "      <td>Cafe, Italian, Continental</td>\n",
       "      <td>700</td>\n",
       "      <td>Cafes</td>\n",
       "    </tr>\n",
       "    <tr>\n",
       "      <th>9</th>\n",
       "      <td>Smacznego</td>\n",
       "      <td>Yes</td>\n",
       "      <td>No</td>\n",
       "      <td>4.2/5</td>\n",
       "      <td>504</td>\n",
       "      <td>Banashankari</td>\n",
       "      <td>Cafe</td>\n",
       "      <td>Cafe, Mexican, Italian, Momos, Beverages</td>\n",
       "      <td>550</td>\n",
       "      <td>Cafes</td>\n",
       "    </tr>\n",
       "  </tbody>\n",
       "</table>\n",
       "</div>"
      ],
      "text/plain": [
       "                                       restaurants online_order booking  \\\n",
       "0                                            Jalsa          Yes     Yes   \n",
       "1                                   Spice Elephant          Yes      No   \n",
       "2                                  San Churro Cafe          Yes      No   \n",
       "3                            Addhuri Udupi Bhojana           No      No   \n",
       "4                                    Grand Village           No      No   \n",
       "5                                  Timepass Dinner          Yes      No   \n",
       "6  Rosewood International Hotel - Bar & Restaurant           No      No   \n",
       "7                                           Onesta          Yes     Yes   \n",
       "8                                   Penthouse Cafe          Yes      No   \n",
       "9                                        Smacznego          Yes      No   \n",
       "\n",
       "  rating  votes      location            rest_type  \\\n",
       "0  4.1/5    775  Banashankari        Casual Dining   \n",
       "1  4.1/5    787  Banashankari        Casual Dining   \n",
       "2  3.8/5    918  Banashankari  Cafe, Casual Dining   \n",
       "3  3.7/5     88  Banashankari          Quick Bites   \n",
       "4  3.8/5    166  Basavanagudi        Casual Dining   \n",
       "5  3.8/5    286  Basavanagudi        Casual Dining   \n",
       "6  3.6/5      8   Mysore Road        Casual Dining   \n",
       "7  4.6/5   2556  Banashankari  Casual Dining, Cafe   \n",
       "8  4.0/5    324  Banashankari                 Cafe   \n",
       "9  4.2/5    504  Banashankari                 Cafe   \n",
       "\n",
       "                                      cuisines cost   types  \n",
       "0               North Indian, Mughlai, Chinese  800  Buffet  \n",
       "1                  Chinese, North Indian, Thai  800  Buffet  \n",
       "2                       Cafe, Mexican, Italian  800  Buffet  \n",
       "3                   South Indian, North Indian  300  Buffet  \n",
       "4                     North Indian, Rajasthani  600  Buffet  \n",
       "5                                 North Indian  600  Buffet  \n",
       "6  North Indian, South Indian, Andhra, Chinese  800  Buffet  \n",
       "7                         Pizza, Cafe, Italian  600   Cafes  \n",
       "8                   Cafe, Italian, Continental  700   Cafes  \n",
       "9     Cafe, Mexican, Italian, Momos, Beverages  550   Cafes  "
      ]
     },
     "execution_count": 19,
     "metadata": {},
     "output_type": "execute_result"
    }
   ],
   "source": [
    "zm.rename(columns={'name':'restaurants', 'book_table':'booking','listed_in(city)':'city','rate':'rating','approx_cost(for two people)':'cost','listed_in(type)':'types'},inplace=True)\n",
    "zm.head(10)"
   ]
  },
  {
   "cell_type": "code",
   "execution_count": 20,
   "id": "fdf27c5a",
   "metadata": {},
   "outputs": [],
   "source": [
    "#Droping NaN values:-\n",
    "#Droping out NaN values helps for getting better result and understanding."
   ]
  },
  {
   "cell_type": "code",
   "execution_count": 21,
   "id": "f8ce351f",
   "metadata": {},
   "outputs": [
    {
     "data": {
      "text/plain": [
       "51717"
      ]
     },
     "execution_count": 21,
     "metadata": {},
     "output_type": "execute_result"
    }
   ],
   "source": [
    "len(zm)   #51717"
   ]
  },
  {
   "cell_type": "code",
   "execution_count": 22,
   "id": "b7443c48",
   "metadata": {},
   "outputs": [],
   "source": [
    "\n",
    "zm.dropna(inplace=True)\n"
   ]
  },
  {
   "cell_type": "code",
   "execution_count": 23,
   "id": "79961ee9",
   "metadata": {},
   "outputs": [
    {
     "data": {
      "text/plain": [
       "False"
      ]
     },
     "execution_count": 23,
     "metadata": {},
     "output_type": "execute_result"
    }
   ],
   "source": [
    "zm.isnull().values.any()"
   ]
  },
  {
   "cell_type": "code",
   "execution_count": 24,
   "id": "c39d6421",
   "metadata": {},
   "outputs": [
    {
     "name": "stdout",
     "output_type": "stream",
     "text": [
      "<class 'pandas.core.frame.DataFrame'>\n",
      "Int64Index: 43533 entries, 0 to 51716\n",
      "Data columns (total 10 columns):\n",
      " #   Column        Non-Null Count  Dtype \n",
      "---  ------        --------------  ----- \n",
      " 0   restaurants   43533 non-null  object\n",
      " 1   online_order  43533 non-null  object\n",
      " 2   booking       43533 non-null  object\n",
      " 3   rating        43533 non-null  object\n",
      " 4   votes         43533 non-null  int64 \n",
      " 5   location      43533 non-null  object\n",
      " 6   rest_type     43533 non-null  object\n",
      " 7   cuisines      43533 non-null  object\n",
      " 8   cost          43533 non-null  object\n",
      " 9   types         43533 non-null  object\n",
      "dtypes: int64(1), object(9)\n",
      "memory usage: 3.7+ MB\n"
     ]
    }
   ],
   "source": [
    "zm.info()"
   ]
  },
  {
   "cell_type": "code",
   "execution_count": 25,
   "id": "f8711026",
   "metadata": {},
   "outputs": [],
   "source": [
    "#Finding out the duplicate rows:-\n",
    "#Helps to find the same repeated rows.\n",
    "#Then removing the duplicate rows for understanding the data."
   ]
  },
  {
   "cell_type": "code",
   "execution_count": 26,
   "id": "7b95d8f4",
   "metadata": {},
   "outputs": [
    {
     "data": {
      "text/plain": [
       "125750"
      ]
     },
     "execution_count": 26,
     "metadata": {},
     "output_type": "execute_result"
    }
   ],
   "source": [
    "zm[zm.duplicated()].count().sum()"
   ]
  },
  {
   "cell_type": "code",
   "execution_count": 27,
   "id": "39c0cece",
   "metadata": {},
   "outputs": [],
   "source": [
    "zm.drop_duplicates(inplace=True)"
   ]
  },
  {
   "cell_type": "code",
   "execution_count": 28,
   "id": "373af0ea",
   "metadata": {},
   "outputs": [
    {
     "data": {
      "text/plain": [
       "(30958, 10)"
      ]
     },
     "execution_count": 28,
     "metadata": {},
     "output_type": "execute_result"
    }
   ],
   "source": [
    "zm.shape"
   ]
  },
  {
   "cell_type": "code",
   "execution_count": 29,
   "id": "965cd8c0",
   "metadata": {},
   "outputs": [
    {
     "data": {
      "text/html": [
       "<div>\n",
       "<style scoped>\n",
       "    .dataframe tbody tr th:only-of-type {\n",
       "        vertical-align: middle;\n",
       "    }\n",
       "\n",
       "    .dataframe tbody tr th {\n",
       "        vertical-align: top;\n",
       "    }\n",
       "\n",
       "    .dataframe thead th {\n",
       "        text-align: right;\n",
       "    }\n",
       "</style>\n",
       "<table border=\"1\" class=\"dataframe\">\n",
       "  <thead>\n",
       "    <tr style=\"text-align: right;\">\n",
       "      <th></th>\n",
       "      <th>restaurants</th>\n",
       "      <th>online_order</th>\n",
       "      <th>booking</th>\n",
       "      <th>rating</th>\n",
       "      <th>votes</th>\n",
       "      <th>location</th>\n",
       "      <th>rest_type</th>\n",
       "      <th>cuisines</th>\n",
       "      <th>cost</th>\n",
       "      <th>types</th>\n",
       "    </tr>\n",
       "  </thead>\n",
       "  <tbody>\n",
       "    <tr>\n",
       "      <th>0</th>\n",
       "      <td>Jalsa</td>\n",
       "      <td>Yes</td>\n",
       "      <td>Yes</td>\n",
       "      <td>4.1/5</td>\n",
       "      <td>775</td>\n",
       "      <td>Banashankari</td>\n",
       "      <td>Casual Dining</td>\n",
       "      <td>North Indian, Mughlai, Chinese</td>\n",
       "      <td>800</td>\n",
       "      <td>Buffet</td>\n",
       "    </tr>\n",
       "    <tr>\n",
       "      <th>1</th>\n",
       "      <td>Spice Elephant</td>\n",
       "      <td>Yes</td>\n",
       "      <td>No</td>\n",
       "      <td>4.1/5</td>\n",
       "      <td>787</td>\n",
       "      <td>Banashankari</td>\n",
       "      <td>Casual Dining</td>\n",
       "      <td>Chinese, North Indian, Thai</td>\n",
       "      <td>800</td>\n",
       "      <td>Buffet</td>\n",
       "    </tr>\n",
       "    <tr>\n",
       "      <th>2</th>\n",
       "      <td>San Churro Cafe</td>\n",
       "      <td>Yes</td>\n",
       "      <td>No</td>\n",
       "      <td>3.8/5</td>\n",
       "      <td>918</td>\n",
       "      <td>Banashankari</td>\n",
       "      <td>Cafe, Casual Dining</td>\n",
       "      <td>Cafe, Mexican, Italian</td>\n",
       "      <td>800</td>\n",
       "      <td>Buffet</td>\n",
       "    </tr>\n",
       "    <tr>\n",
       "      <th>3</th>\n",
       "      <td>Addhuri Udupi Bhojana</td>\n",
       "      <td>No</td>\n",
       "      <td>No</td>\n",
       "      <td>3.7/5</td>\n",
       "      <td>88</td>\n",
       "      <td>Banashankari</td>\n",
       "      <td>Quick Bites</td>\n",
       "      <td>South Indian, North Indian</td>\n",
       "      <td>300</td>\n",
       "      <td>Buffet</td>\n",
       "    </tr>\n",
       "    <tr>\n",
       "      <th>4</th>\n",
       "      <td>Grand Village</td>\n",
       "      <td>No</td>\n",
       "      <td>No</td>\n",
       "      <td>3.8/5</td>\n",
       "      <td>166</td>\n",
       "      <td>Basavanagudi</td>\n",
       "      <td>Casual Dining</td>\n",
       "      <td>North Indian, Rajasthani</td>\n",
       "      <td>600</td>\n",
       "      <td>Buffet</td>\n",
       "    </tr>\n",
       "    <tr>\n",
       "      <th>...</th>\n",
       "      <td>...</td>\n",
       "      <td>...</td>\n",
       "      <td>...</td>\n",
       "      <td>...</td>\n",
       "      <td>...</td>\n",
       "      <td>...</td>\n",
       "      <td>...</td>\n",
       "      <td>...</td>\n",
       "      <td>...</td>\n",
       "      <td>...</td>\n",
       "    </tr>\n",
       "    <tr>\n",
       "      <th>51709</th>\n",
       "      <td>The Farm House Bar n Grill</td>\n",
       "      <td>No</td>\n",
       "      <td>No</td>\n",
       "      <td>3.7 /5</td>\n",
       "      <td>34</td>\n",
       "      <td>Whitefield</td>\n",
       "      <td>Casual Dining, Bar</td>\n",
       "      <td>North Indian, Continental</td>\n",
       "      <td>800</td>\n",
       "      <td>Pubs and bars</td>\n",
       "    </tr>\n",
       "    <tr>\n",
       "      <th>51711</th>\n",
       "      <td>Bhagini</td>\n",
       "      <td>No</td>\n",
       "      <td>No</td>\n",
       "      <td>2.5 /5</td>\n",
       "      <td>81</td>\n",
       "      <td>Whitefield</td>\n",
       "      <td>Casual Dining, Bar</td>\n",
       "      <td>Andhra, South Indian, Chinese, North Indian</td>\n",
       "      <td>800</td>\n",
       "      <td>Pubs and bars</td>\n",
       "    </tr>\n",
       "    <tr>\n",
       "      <th>51712</th>\n",
       "      <td>Best Brews - Four Points by Sheraton Bengaluru...</td>\n",
       "      <td>No</td>\n",
       "      <td>No</td>\n",
       "      <td>3.6 /5</td>\n",
       "      <td>27</td>\n",
       "      <td>Whitefield</td>\n",
       "      <td>Bar</td>\n",
       "      <td>Continental</td>\n",
       "      <td>1,500</td>\n",
       "      <td>Pubs and bars</td>\n",
       "    </tr>\n",
       "    <tr>\n",
       "      <th>51715</th>\n",
       "      <td>Chime - Sheraton Grand Bengaluru Whitefield Ho...</td>\n",
       "      <td>No</td>\n",
       "      <td>Yes</td>\n",
       "      <td>4.3 /5</td>\n",
       "      <td>236</td>\n",
       "      <td>ITPL Main Road, Whitefield</td>\n",
       "      <td>Bar</td>\n",
       "      <td>Finger Food</td>\n",
       "      <td>2,500</td>\n",
       "      <td>Pubs and bars</td>\n",
       "    </tr>\n",
       "    <tr>\n",
       "      <th>51716</th>\n",
       "      <td>The Nest - The Den Bengaluru</td>\n",
       "      <td>No</td>\n",
       "      <td>No</td>\n",
       "      <td>3.4 /5</td>\n",
       "      <td>13</td>\n",
       "      <td>ITPL Main Road, Whitefield</td>\n",
       "      <td>Bar, Casual Dining</td>\n",
       "      <td>Finger Food, North Indian, Continental</td>\n",
       "      <td>1,500</td>\n",
       "      <td>Pubs and bars</td>\n",
       "    </tr>\n",
       "  </tbody>\n",
       "</table>\n",
       "<p>30958 rows × 10 columns</p>\n",
       "</div>"
      ],
      "text/plain": [
       "                                             restaurants online_order booking  \\\n",
       "0                                                  Jalsa          Yes     Yes   \n",
       "1                                         Spice Elephant          Yes      No   \n",
       "2                                        San Churro Cafe          Yes      No   \n",
       "3                                  Addhuri Udupi Bhojana           No      No   \n",
       "4                                          Grand Village           No      No   \n",
       "...                                                  ...          ...     ...   \n",
       "51709                         The Farm House Bar n Grill           No      No   \n",
       "51711                                            Bhagini           No      No   \n",
       "51712  Best Brews - Four Points by Sheraton Bengaluru...           No      No   \n",
       "51715  Chime - Sheraton Grand Bengaluru Whitefield Ho...           No     Yes   \n",
       "51716                       The Nest - The Den Bengaluru           No      No   \n",
       "\n",
       "       rating  votes                    location            rest_type  \\\n",
       "0       4.1/5    775                Banashankari        Casual Dining   \n",
       "1       4.1/5    787                Banashankari        Casual Dining   \n",
       "2       3.8/5    918                Banashankari  Cafe, Casual Dining   \n",
       "3       3.7/5     88                Banashankari          Quick Bites   \n",
       "4       3.8/5    166                Basavanagudi        Casual Dining   \n",
       "...       ...    ...                         ...                  ...   \n",
       "51709  3.7 /5     34                  Whitefield   Casual Dining, Bar   \n",
       "51711  2.5 /5     81                  Whitefield   Casual Dining, Bar   \n",
       "51712  3.6 /5     27                  Whitefield                  Bar   \n",
       "51715  4.3 /5    236  ITPL Main Road, Whitefield                  Bar   \n",
       "51716  3.4 /5     13  ITPL Main Road, Whitefield   Bar, Casual Dining   \n",
       "\n",
       "                                          cuisines   cost          types  \n",
       "0                   North Indian, Mughlai, Chinese    800         Buffet  \n",
       "1                      Chinese, North Indian, Thai    800         Buffet  \n",
       "2                           Cafe, Mexican, Italian    800         Buffet  \n",
       "3                       South Indian, North Indian    300         Buffet  \n",
       "4                         North Indian, Rajasthani    600         Buffet  \n",
       "...                                            ...    ...            ...  \n",
       "51709                    North Indian, Continental    800  Pubs and bars  \n",
       "51711  Andhra, South Indian, Chinese, North Indian    800  Pubs and bars  \n",
       "51712                                  Continental  1,500  Pubs and bars  \n",
       "51715                                  Finger Food  2,500  Pubs and bars  \n",
       "51716       Finger Food, North Indian, Continental  1,500  Pubs and bars  \n",
       "\n",
       "[30958 rows x 10 columns]"
      ]
     },
     "execution_count": 29,
     "metadata": {},
     "output_type": "execute_result"
    }
   ],
   "source": [
    "zm"
   ]
  },
  {
   "cell_type": "markdown",
   "id": "116d73da",
   "metadata": {},
   "source": [
    "#### Cleaning individual columns:-"
   ]
  },
  {
   "cell_type": "markdown",
   "id": "0cc8f05d",
   "metadata": {},
   "source": [
    "#### (1) column:- ratings"
   ]
  },
  {
   "cell_type": "code",
   "execution_count": 30,
   "id": "b9b3ed50",
   "metadata": {},
   "outputs": [],
   "source": [
    "zm['rateNEW']=zm['rating'].str.split('/', expand=True)[0]\n",
    "zm['rateNEW'] = zm['rateNEW'].replace(np.nan, 0)\n"
   ]
  },
  {
   "cell_type": "code",
   "execution_count": 31,
   "id": "54ae7cad",
   "metadata": {},
   "outputs": [],
   "source": [
    "zm['rateNEW'] = zm['rateNEW'].replace(['NEW','-']).astype(float, errors = 'raise')"
   ]
  },
  {
   "cell_type": "code",
   "execution_count": 32,
   "id": "7b129c6c",
   "metadata": {},
   "outputs": [
    {
     "data": {
      "text/plain": [
       "array([4.1, 3.8, 3.7, 3.6, 4.6, 4. , 4.2, 3.9, 3.1, 3. , 3.2, 3.3, 2.8,\n",
       "       4.4, 4.3, 2.9, 3.5, 2.6, 3.4, 4.5, 2.5, 2.7, 4.7, 2.4, 2.2, 2.3,\n",
       "       4.8, 4.9, 2.1, 2. , 1.8])"
      ]
     },
     "execution_count": 32,
     "metadata": {},
     "output_type": "execute_result"
    }
   ],
   "source": [
    "zm.rateNEW.unique()"
   ]
  },
  {
   "cell_type": "code",
   "execution_count": 33,
   "id": "a9dcfec7",
   "metadata": {},
   "outputs": [
    {
     "data": {
      "text/plain": [
       "0    4.1\n",
       "1    4.1\n",
       "2    3.8\n",
       "3    3.7\n",
       "4    3.8\n",
       "5    3.8\n",
       "6    3.6\n",
       "7    4.6\n",
       "8    4.0\n",
       "9    4.2\n",
       "Name: rateNEW, dtype: float64"
      ]
     },
     "execution_count": 33,
     "metadata": {},
     "output_type": "execute_result"
    }
   ],
   "source": [
    "zm.rateNEW.head(10)"
   ]
  },
  {
   "cell_type": "code",
   "execution_count": 34,
   "id": "5567bf72",
   "metadata": {},
   "outputs": [
    {
     "data": {
      "text/plain": [
       "0    4.1\n",
       "1    4.1\n",
       "2    3.8\n",
       "3    3.7\n",
       "4    3.8\n",
       "Name: rating, dtype: float64"
      ]
     },
     "execution_count": 34,
     "metadata": {},
     "output_type": "execute_result"
    }
   ],
   "source": [
    "def rate(value):\n",
    "    if value=='NEW' or value=='-':\n",
    "        return int(0)\n",
    "    else:\n",
    "        value=value.split('/')\n",
    "        value=value[0]\n",
    "        return float(value)\n",
    "    \n",
    "zm['rating']=zm['rating'].apply(rate)\n",
    "zm['rating'].head()"
   ]
  },
  {
   "cell_type": "code",
   "execution_count": 35,
   "id": "4a273d5c",
   "metadata": {},
   "outputs": [
    {
     "data": {
      "text/plain": [
       "0"
      ]
     },
     "execution_count": 35,
     "metadata": {},
     "output_type": "execute_result"
    }
   ],
   "source": [
    "#Counting the NaN valuesn in rating column\n",
    "\n",
    "zm['rating'].isnull().sum()"
   ]
  },
  {
   "cell_type": "code",
   "execution_count": 36,
   "id": "d6a80cd5",
   "metadata": {},
   "outputs": [],
   "source": [
    "zm.rating.dropna(inplace=True)"
   ]
  },
  {
   "cell_type": "code",
   "execution_count": 37,
   "id": "a88edccd",
   "metadata": {},
   "outputs": [
    {
     "data": {
      "text/plain": [
       "0"
      ]
     },
     "execution_count": 37,
     "metadata": {},
     "output_type": "execute_result"
    }
   ],
   "source": [
    "zm.rating.isnull().sum()"
   ]
  },
  {
   "cell_type": "code",
   "execution_count": 38,
   "id": "b8a9f990",
   "metadata": {},
   "outputs": [
    {
     "name": "stdout",
     "output_type": "stream",
     "text": [
      "<class 'pandas.core.frame.DataFrame'>\n",
      "Int64Index: 30958 entries, 0 to 51716\n",
      "Data columns (total 11 columns):\n",
      " #   Column        Non-Null Count  Dtype  \n",
      "---  ------        --------------  -----  \n",
      " 0   restaurants   30958 non-null  object \n",
      " 1   online_order  30958 non-null  object \n",
      " 2   booking       30958 non-null  object \n",
      " 3   rating        30958 non-null  float64\n",
      " 4   votes         30958 non-null  int64  \n",
      " 5   location      30958 non-null  object \n",
      " 6   rest_type     30958 non-null  object \n",
      " 7   cuisines      30958 non-null  object \n",
      " 8   cost          30958 non-null  object \n",
      " 9   types         30958 non-null  object \n",
      " 10  rateNEW       30958 non-null  float64\n",
      "dtypes: float64(2), int64(1), object(8)\n",
      "memory usage: 2.8+ MB\n"
     ]
    }
   ],
   "source": [
    "zm.info()"
   ]
  },
  {
   "cell_type": "markdown",
   "id": "5bd66441",
   "metadata": {},
   "source": [
    "#### (2) column : location"
   ]
  },
  {
   "cell_type": "code",
   "execution_count": 39,
   "id": "ad786d3b",
   "metadata": {},
   "outputs": [
    {
     "data": {
      "text/plain": [
       "restaurants     0\n",
       "online_order    0\n",
       "booking         0\n",
       "rating          0\n",
       "votes           0\n",
       "location        0\n",
       "rest_type       0\n",
       "cuisines        0\n",
       "cost            0\n",
       "types           0\n",
       "rateNEW         0\n",
       "dtype: int64"
      ]
     },
     "execution_count": 39,
     "metadata": {},
     "output_type": "execute_result"
    }
   ],
   "source": [
    "zm.isnull().sum()"
   ]
  },
  {
   "cell_type": "code",
   "execution_count": 40,
   "id": "7c1289ba",
   "metadata": {},
   "outputs": [
    {
     "data": {
      "text/plain": [
       "array(['Banashankari', 'Basavanagudi', 'Mysore Road', 'Jayanagar',\n",
       "       'Kumaraswamy Layout', 'Rajarajeshwari Nagar', 'Vijay Nagar',\n",
       "       'Uttarahalli', 'JP Nagar', 'South Bangalore', 'City Market',\n",
       "       'Bannerghatta Road', 'BTM', 'Kanakapura Road', 'Bommanahalli',\n",
       "       'CV Raman Nagar', 'Electronic City', 'Wilson Garden',\n",
       "       'Shanti Nagar', 'Koramangala 5th Block', 'Richmond Road', 'HSR',\n",
       "       'Marathahalli', 'Koramangala 7th Block', 'Bellandur',\n",
       "       'Sarjapur Road', 'Whitefield', 'East Bangalore',\n",
       "       'Old Airport Road', 'Indiranagar', 'Koramangala 1st Block',\n",
       "       'Frazer Town', 'MG Road', 'Brigade Road', 'Lavelle Road',\n",
       "       'Church Street', 'Ulsoor', 'Residency Road', 'Shivajinagar',\n",
       "       'Infantry Road', 'St. Marks Road', 'Cunningham Road',\n",
       "       'Race Course Road', 'Commercial Street', 'Vasanth Nagar', 'Domlur',\n",
       "       'Koramangala 8th Block', 'Ejipura', 'Jeevan Bhima Nagar',\n",
       "       'Old Madras Road', 'Seshadripuram', 'Kammanahalli',\n",
       "       'Koramangala 6th Block', 'Majestic', 'Langford Town',\n",
       "       'Central Bangalore', 'Sanjay Nagar', 'Brookefield',\n",
       "       'ITPL Main Road, Whitefield', 'Varthur Main Road, Whitefield',\n",
       "       'Koramangala 2nd Block', 'Koramangala 3rd Block',\n",
       "       'Koramangala 4th Block', 'Koramangala', 'Hosur Road',\n",
       "       'Rajajinagar', 'RT Nagar', 'Banaswadi', 'North Bangalore',\n",
       "       'Nagawara', 'Hennur', 'Kalyan Nagar', 'HBR Layout',\n",
       "       'Rammurthy Nagar', 'Thippasandra', 'Kaggadasapura', 'Hebbal',\n",
       "       'Kengeri', 'New BEL Road', 'Sankey Road', 'Malleshwaram',\n",
       "       'Sadashiv Nagar', 'Basaveshwara Nagar', 'Yeshwantpur',\n",
       "       'West Bangalore', 'Magadi Road', 'Yelahanka', 'Sahakara Nagar',\n",
       "       'Jalahalli', 'Nagarbhavi', 'Peenya', 'KR Puram'], dtype=object)"
      ]
     },
     "execution_count": 40,
     "metadata": {},
     "output_type": "execute_result"
    }
   ],
   "source": [
    "zm['location'].unique()"
   ]
  },
  {
   "cell_type": "code",
   "execution_count": 41,
   "id": "a250424c",
   "metadata": {},
   "outputs": [
    {
     "data": {
      "text/plain": [
       "BTM                      2228\n",
       "Indiranagar              1653\n",
       "Whitefield               1630\n",
       "Koramangala 5th Block    1577\n",
       "HSR                      1558\n",
       "                         ... \n",
       "Central Bangalore           5\n",
       "Yelahanka                   4\n",
       "Rajarajeshwari Nagar        2\n",
       "Nagarbhavi                  1\n",
       "Peenya                      1\n",
       "Name: location, Length: 92, dtype: int64"
      ]
     },
     "execution_count": 41,
     "metadata": {},
     "output_type": "execute_result"
    }
   ],
   "source": [
    "a_loc = zm['location'].value_counts(ascending=False)\n",
    "a_loc"
   ]
  },
  {
   "cell_type": "markdown",
   "id": "a428e248",
   "metadata": {},
   "source": [
    "#### (3) column : rest_type"
   ]
  },
  {
   "cell_type": "code",
   "execution_count": 42,
   "id": "f5b0eb49",
   "metadata": {},
   "outputs": [
    {
     "data": {
      "text/plain": [
       "Quick Bites                   10143\n",
       "Casual Dining                  7311\n",
       "Cafe                           2495\n",
       "Dessert Parlor                 1357\n",
       "Delivery                       1117\n",
       "                              ...  \n",
       "Dessert Parlor, Kiosk             2\n",
       "Bakery, Food Court                2\n",
       "Food Court, Beverage Shop         2\n",
       "Quick Bites, Kiosk                1\n",
       "Dessert Parlor, Food Court        1\n",
       "Name: rest_type, Length: 87, dtype: int64"
      ]
     },
     "execution_count": 42,
     "metadata": {},
     "output_type": "execute_result"
    }
   ],
   "source": [
    "b_rest_type = zm['rest_type'].value_counts()\n",
    "b_rest_type"
   ]
  },
  {
   "cell_type": "markdown",
   "id": "479d33e3",
   "metadata": {},
   "source": [
    "#### (4) column: types"
   ]
  },
  {
   "cell_type": "code",
   "execution_count": 43,
   "id": "6fbca5e5",
   "metadata": {},
   "outputs": [
    {
     "data": {
      "text/plain": [
       "Delivery              14159\n",
       "Dine-out              11354\n",
       "Desserts               2117\n",
       "Cafes                  1184\n",
       "Drinks & nightlife      894\n",
       "Buffet                  665\n",
       "Pubs and bars           585\n",
       "Name: types, dtype: int64"
      ]
     },
     "execution_count": 43,
     "metadata": {},
     "output_type": "execute_result"
    }
   ],
   "source": [
    "c_types = zm['types'].value_counts()\n",
    "c_types"
   ]
  },
  {
   "cell_type": "markdown",
   "id": "9b393f25",
   "metadata": {},
   "source": [
    "#### (5) column: cost"
   ]
  },
  {
   "cell_type": "code",
   "execution_count": 44,
   "id": "fa4c25e4",
   "metadata": {},
   "outputs": [
    {
     "data": {
      "text/plain": [
       "array(['800', '300', '600', '700', '550', '500', '450', '650', '400',\n",
       "       '900', '200', '750', '150', '850', '100', '1,200', '350', '250',\n",
       "       '950', '1,000', '1,500', '1,300', '199', '80', '1,100', '160',\n",
       "       '1,600', '230', '130', '1,700', '1,400', '1,350', '2,200', '2,000',\n",
       "       '1,800', '1,900', '180', '330', '2,500', '2,100', '3,000', '2,800',\n",
       "       '3,400', '50', '40', '1,250', '3,500', '4,000', '2,400', '2,600',\n",
       "       '1,450', '70', '3,200', '560', '240', '360', '6,000', '1,050',\n",
       "       '2,300', '4,100', '120', '5,000', '3,700', '1,650', '2,700',\n",
       "       '4,500'], dtype=object)"
      ]
     },
     "execution_count": 44,
     "metadata": {},
     "output_type": "execute_result"
    }
   ],
   "source": [
    "zm.cost.unique()"
   ]
  },
  {
   "cell_type": "code",
   "execution_count": 45,
   "id": "ad4df065",
   "metadata": {},
   "outputs": [],
   "source": [
    "def money(value):                     # def a function then apply it in cost column  \n",
    "    value=str(value)\n",
    "    if ',' in value:                   # we need to remove \",\" and if \",\" is not there return the same value in int format\n",
    "        value=value.replace(',','')\n",
    "        return int(value)\n",
    "    else:\n",
    "        return int(value)\n",
    "\n",
    "zm['cost']=zm['cost'].apply(money) "
   ]
  },
  {
   "cell_type": "code",
   "execution_count": 46,
   "id": "a3de8533",
   "metadata": {},
   "outputs": [
    {
     "data": {
      "text/plain": [
       "array([ 800,  300,  600,  700,  550,  500,  450,  650,  400,  900,  200,\n",
       "        750,  150,  850,  100, 1200,  350,  250,  950, 1000, 1500, 1300,\n",
       "        199,   80, 1100,  160, 1600,  230,  130, 1700, 1400, 1350, 2200,\n",
       "       2000, 1800, 1900,  180,  330, 2500, 2100, 3000, 2800, 3400,   50,\n",
       "         40, 1250, 3500, 4000, 2400, 2600, 1450,   70, 3200,  560,  240,\n",
       "        360, 6000, 1050, 2300, 4100,  120, 5000, 3700, 1650, 2700, 4500],\n",
       "      dtype=int64)"
      ]
     },
     "execution_count": 46,
     "metadata": {},
     "output_type": "execute_result"
    }
   ],
   "source": [
    "zm.cost.unique()"
   ]
  },
  {
   "cell_type": "code",
   "execution_count": 47,
   "id": "16d1db1c",
   "metadata": {},
   "outputs": [
    {
     "name": "stdout",
     "output_type": "stream",
     "text": [
      "<class 'pandas.core.series.Series'>\n",
      "Int64Index: 30958 entries, 0 to 51716\n",
      "Series name: cost\n",
      "Non-Null Count  Dtype\n",
      "--------------  -----\n",
      "30958 non-null  int64\n",
      "dtypes: int64(1)\n",
      "memory usage: 483.7 KB\n"
     ]
    }
   ],
   "source": [
    "zm.cost.info()"
   ]
  },
  {
   "cell_type": "markdown",
   "id": "a766b62b",
   "metadata": {},
   "source": [
    "#### (6) column:-booking"
   ]
  },
  {
   "cell_type": "code",
   "execution_count": 48,
   "id": "f91cbae4",
   "metadata": {},
   "outputs": [
    {
     "data": {
      "text/plain": [
       "array(['Yes', 'No'], dtype=object)"
      ]
     },
     "execution_count": 48,
     "metadata": {},
     "output_type": "execute_result"
    }
   ],
   "source": [
    "zm.booking.unique()"
   ]
  },
  {
   "cell_type": "markdown",
   "id": "385e64d7",
   "metadata": {},
   "source": [
    "#### (7) column:-online order"
   ]
  },
  {
   "cell_type": "code",
   "execution_count": 49,
   "id": "7511a474",
   "metadata": {
    "scrolled": true
   },
   "outputs": [
    {
     "data": {
      "text/plain": [
       "array(['Yes', 'No'], dtype=object)"
      ]
     },
     "execution_count": 49,
     "metadata": {},
     "output_type": "execute_result"
    }
   ],
   "source": [
    "zm.online_order.unique()"
   ]
  },
  {
   "cell_type": "markdown",
   "id": "388bc6a3",
   "metadata": {},
   "source": [
    "#### (8) column:-cuisines"
   ]
  },
  {
   "cell_type": "code",
   "execution_count": 50,
   "id": "2215b2ef",
   "metadata": {},
   "outputs": [
    {
     "data": {
      "text/plain": [
       "North Indian                                                  1602\n",
       "North Indian, Chinese                                         1401\n",
       "South Indian                                                   902\n",
       "Bakery, Desserts                                               471\n",
       "Biryani                                                        429\n",
       "                                                              ... \n",
       "Bakery, Fast Food, Burger, Rolls, Beverages                      1\n",
       "Fast Food, Kerala, Mangalorean, Seafood, South Indian            1\n",
       "Pizza, American                                                  1\n",
       "North Indian, South Indian, Chinese, Desserts, Street Food       1\n",
       "North Indian, Chinese, Arabian, Momos                            1\n",
       "Name: cuisines, Length: 2487, dtype: int64"
      ]
     },
     "execution_count": 50,
     "metadata": {},
     "output_type": "execute_result"
    }
   ],
   "source": [
    "d_cuisines=zm['cuisines'].value_counts()\n",
    "d_cuisines"
   ]
  },
  {
   "cell_type": "markdown",
   "id": "b31b142f",
   "metadata": {},
   "source": [
    "#### (9) column:-restaurants"
   ]
  },
  {
   "cell_type": "code",
   "execution_count": 51,
   "id": "70df71b8",
   "metadata": {},
   "outputs": [
    {
     "data": {
      "text/html": [
       "<div>\n",
       "<style scoped>\n",
       "    .dataframe tbody tr th:only-of-type {\n",
       "        vertical-align: middle;\n",
       "    }\n",
       "\n",
       "    .dataframe tbody tr th {\n",
       "        vertical-align: top;\n",
       "    }\n",
       "\n",
       "    .dataframe thead th {\n",
       "        text-align: right;\n",
       "    }\n",
       "</style>\n",
       "<table border=\"1\" class=\"dataframe\">\n",
       "  <thead>\n",
       "    <tr style=\"text-align: right;\">\n",
       "      <th></th>\n",
       "      <th>online_order</th>\n",
       "      <th>booking</th>\n",
       "      <th>rating</th>\n",
       "      <th>votes</th>\n",
       "      <th>location</th>\n",
       "      <th>rest_type</th>\n",
       "      <th>cuisines</th>\n",
       "      <th>cost</th>\n",
       "      <th>types</th>\n",
       "      <th>rateNEW</th>\n",
       "    </tr>\n",
       "    <tr>\n",
       "      <th>restaurants</th>\n",
       "      <th></th>\n",
       "      <th></th>\n",
       "      <th></th>\n",
       "      <th></th>\n",
       "      <th></th>\n",
       "      <th></th>\n",
       "      <th></th>\n",
       "      <th></th>\n",
       "      <th></th>\n",
       "      <th></th>\n",
       "    </tr>\n",
       "  </thead>\n",
       "  <tbody>\n",
       "    <tr>\n",
       "      <th>#FeelTheROLL</th>\n",
       "      <td>2</td>\n",
       "      <td>2</td>\n",
       "      <td>2</td>\n",
       "      <td>2</td>\n",
       "      <td>2</td>\n",
       "      <td>2</td>\n",
       "      <td>2</td>\n",
       "      <td>2</td>\n",
       "      <td>2</td>\n",
       "      <td>2</td>\n",
       "    </tr>\n",
       "    <tr>\n",
       "      <th>#L-81 Cafe</th>\n",
       "      <td>4</td>\n",
       "      <td>4</td>\n",
       "      <td>4</td>\n",
       "      <td>4</td>\n",
       "      <td>4</td>\n",
       "      <td>4</td>\n",
       "      <td>4</td>\n",
       "      <td>4</td>\n",
       "      <td>4</td>\n",
       "      <td>4</td>\n",
       "    </tr>\n",
       "    <tr>\n",
       "      <th>#refuel</th>\n",
       "      <td>3</td>\n",
       "      <td>3</td>\n",
       "      <td>3</td>\n",
       "      <td>3</td>\n",
       "      <td>3</td>\n",
       "      <td>3</td>\n",
       "      <td>3</td>\n",
       "      <td>3</td>\n",
       "      <td>3</td>\n",
       "      <td>3</td>\n",
       "    </tr>\n",
       "    <tr>\n",
       "      <th>1000 B.C</th>\n",
       "      <td>2</td>\n",
       "      <td>2</td>\n",
       "      <td>2</td>\n",
       "      <td>2</td>\n",
       "      <td>2</td>\n",
       "      <td>2</td>\n",
       "      <td>2</td>\n",
       "      <td>2</td>\n",
       "      <td>2</td>\n",
       "      <td>2</td>\n",
       "    </tr>\n",
       "    <tr>\n",
       "      <th>100ÃÂÃÂÃÂÃÂÃÂÃÂÃÂÃÂ°C</th>\n",
       "      <td>2</td>\n",
       "      <td>2</td>\n",
       "      <td>2</td>\n",
       "      <td>2</td>\n",
       "      <td>2</td>\n",
       "      <td>2</td>\n",
       "      <td>2</td>\n",
       "      <td>2</td>\n",
       "      <td>2</td>\n",
       "      <td>2</td>\n",
       "    </tr>\n",
       "    <tr>\n",
       "      <th>11 to 11 Express Biriyanis</th>\n",
       "      <td>2</td>\n",
       "      <td>2</td>\n",
       "      <td>2</td>\n",
       "      <td>2</td>\n",
       "      <td>2</td>\n",
       "      <td>2</td>\n",
       "      <td>2</td>\n",
       "      <td>2</td>\n",
       "      <td>2</td>\n",
       "      <td>2</td>\n",
       "    </tr>\n",
       "    <tr>\n",
       "      <th>1131 Bar + Kitchen</th>\n",
       "      <td>6</td>\n",
       "      <td>6</td>\n",
       "      <td>6</td>\n",
       "      <td>6</td>\n",
       "      <td>6</td>\n",
       "      <td>6</td>\n",
       "      <td>6</td>\n",
       "      <td>6</td>\n",
       "      <td>6</td>\n",
       "      <td>6</td>\n",
       "    </tr>\n",
       "    <tr>\n",
       "      <th>12th Main - Grand Mercure</th>\n",
       "      <td>6</td>\n",
       "      <td>6</td>\n",
       "      <td>6</td>\n",
       "      <td>6</td>\n",
       "      <td>6</td>\n",
       "      <td>6</td>\n",
       "      <td>6</td>\n",
       "      <td>6</td>\n",
       "      <td>6</td>\n",
       "      <td>6</td>\n",
       "    </tr>\n",
       "    <tr>\n",
       "      <th>1441 Pizzeria</th>\n",
       "      <td>5</td>\n",
       "      <td>5</td>\n",
       "      <td>5</td>\n",
       "      <td>5</td>\n",
       "      <td>5</td>\n",
       "      <td>5</td>\n",
       "      <td>5</td>\n",
       "      <td>5</td>\n",
       "      <td>5</td>\n",
       "      <td>5</td>\n",
       "    </tr>\n",
       "    <tr>\n",
       "      <th>1522 - The Pub</th>\n",
       "      <td>24</td>\n",
       "      <td>24</td>\n",
       "      <td>24</td>\n",
       "      <td>24</td>\n",
       "      <td>24</td>\n",
       "      <td>24</td>\n",
       "      <td>24</td>\n",
       "      <td>24</td>\n",
       "      <td>24</td>\n",
       "      <td>24</td>\n",
       "    </tr>\n",
       "    <tr>\n",
       "      <th>154 Breakfast Club</th>\n",
       "      <td>13</td>\n",
       "      <td>13</td>\n",
       "      <td>13</td>\n",
       "      <td>13</td>\n",
       "      <td>13</td>\n",
       "      <td>13</td>\n",
       "      <td>13</td>\n",
       "      <td>13</td>\n",
       "      <td>13</td>\n",
       "      <td>13</td>\n",
       "    </tr>\n",
       "    <tr>\n",
       "      <th>1722 Urban Bistro</th>\n",
       "      <td>10</td>\n",
       "      <td>10</td>\n",
       "      <td>10</td>\n",
       "      <td>10</td>\n",
       "      <td>10</td>\n",
       "      <td>10</td>\n",
       "      <td>10</td>\n",
       "      <td>10</td>\n",
       "      <td>10</td>\n",
       "      <td>10</td>\n",
       "    </tr>\n",
       "    <tr>\n",
       "      <th>18+ Ice Cafe</th>\n",
       "      <td>4</td>\n",
       "      <td>4</td>\n",
       "      <td>4</td>\n",
       "      <td>4</td>\n",
       "      <td>4</td>\n",
       "      <td>4</td>\n",
       "      <td>4</td>\n",
       "      <td>4</td>\n",
       "      <td>4</td>\n",
       "      <td>4</td>\n",
       "    </tr>\n",
       "    <tr>\n",
       "      <th>1947</th>\n",
       "      <td>14</td>\n",
       "      <td>14</td>\n",
       "      <td>14</td>\n",
       "      <td>14</td>\n",
       "      <td>14</td>\n",
       "      <td>14</td>\n",
       "      <td>14</td>\n",
       "      <td>14</td>\n",
       "      <td>14</td>\n",
       "      <td>14</td>\n",
       "    </tr>\n",
       "    <tr>\n",
       "      <th>1980s Games Cafe</th>\n",
       "      <td>3</td>\n",
       "      <td>3</td>\n",
       "      <td>3</td>\n",
       "      <td>3</td>\n",
       "      <td>3</td>\n",
       "      <td>3</td>\n",
       "      <td>3</td>\n",
       "      <td>3</td>\n",
       "      <td>3</td>\n",
       "      <td>3</td>\n",
       "    </tr>\n",
       "    <tr>\n",
       "      <th>1992 Chats - Space</th>\n",
       "      <td>2</td>\n",
       "      <td>2</td>\n",
       "      <td>2</td>\n",
       "      <td>2</td>\n",
       "      <td>2</td>\n",
       "      <td>2</td>\n",
       "      <td>2</td>\n",
       "      <td>2</td>\n",
       "      <td>2</td>\n",
       "      <td>2</td>\n",
       "    </tr>\n",
       "    <tr>\n",
       "      <th>1Q1</th>\n",
       "      <td>16</td>\n",
       "      <td>16</td>\n",
       "      <td>16</td>\n",
       "      <td>16</td>\n",
       "      <td>16</td>\n",
       "      <td>16</td>\n",
       "      <td>16</td>\n",
       "      <td>16</td>\n",
       "      <td>16</td>\n",
       "      <td>16</td>\n",
       "    </tr>\n",
       "    <tr>\n",
       "      <th>1TO3 Kitchen</th>\n",
       "      <td>1</td>\n",
       "      <td>1</td>\n",
       "      <td>1</td>\n",
       "      <td>1</td>\n",
       "      <td>1</td>\n",
       "      <td>1</td>\n",
       "      <td>1</td>\n",
       "      <td>1</td>\n",
       "      <td>1</td>\n",
       "      <td>1</td>\n",
       "    </tr>\n",
       "    <tr>\n",
       "      <th>2 Statez</th>\n",
       "      <td>3</td>\n",
       "      <td>3</td>\n",
       "      <td>3</td>\n",
       "      <td>3</td>\n",
       "      <td>3</td>\n",
       "      <td>3</td>\n",
       "      <td>3</td>\n",
       "      <td>3</td>\n",
       "      <td>3</td>\n",
       "      <td>3</td>\n",
       "    </tr>\n",
       "    <tr>\n",
       "      <th>20 Char - Sterlings MAC Hotel</th>\n",
       "      <td>8</td>\n",
       "      <td>8</td>\n",
       "      <td>8</td>\n",
       "      <td>8</td>\n",
       "      <td>8</td>\n",
       "      <td>8</td>\n",
       "      <td>8</td>\n",
       "      <td>8</td>\n",
       "      <td>8</td>\n",
       "      <td>8</td>\n",
       "    </tr>\n",
       "    <tr>\n",
       "      <th>20 Feet High</th>\n",
       "      <td>16</td>\n",
       "      <td>16</td>\n",
       "      <td>16</td>\n",
       "      <td>16</td>\n",
       "      <td>16</td>\n",
       "      <td>16</td>\n",
       "      <td>16</td>\n",
       "      <td>16</td>\n",
       "      <td>16</td>\n",
       "      <td>16</td>\n",
       "    </tr>\n",
       "    <tr>\n",
       "      <th>21 C - La Marvella Sarovar Premiere Hotel</th>\n",
       "      <td>2</td>\n",
       "      <td>2</td>\n",
       "      <td>2</td>\n",
       "      <td>2</td>\n",
       "      <td>2</td>\n",
       "      <td>2</td>\n",
       "      <td>2</td>\n",
       "      <td>2</td>\n",
       "      <td>2</td>\n",
       "      <td>2</td>\n",
       "    </tr>\n",
       "    <tr>\n",
       "      <th>24 Carats - The Capitol</th>\n",
       "      <td>4</td>\n",
       "      <td>4</td>\n",
       "      <td>4</td>\n",
       "      <td>4</td>\n",
       "      <td>4</td>\n",
       "      <td>4</td>\n",
       "      <td>4</td>\n",
       "      <td>4</td>\n",
       "      <td>4</td>\n",
       "      <td>4</td>\n",
       "    </tr>\n",
       "    <tr>\n",
       "      <th>24 Hours Cake Delivery</th>\n",
       "      <td>4</td>\n",
       "      <td>4</td>\n",
       "      <td>4</td>\n",
       "      <td>4</td>\n",
       "      <td>4</td>\n",
       "      <td>4</td>\n",
       "      <td>4</td>\n",
       "      <td>4</td>\n",
       "      <td>4</td>\n",
       "      <td>4</td>\n",
       "    </tr>\n",
       "    <tr>\n",
       "      <th>24 Hours Coffee Drop - La Classic</th>\n",
       "      <td>2</td>\n",
       "      <td>2</td>\n",
       "      <td>2</td>\n",
       "      <td>2</td>\n",
       "      <td>2</td>\n",
       "      <td>2</td>\n",
       "      <td>2</td>\n",
       "      <td>2</td>\n",
       "      <td>2</td>\n",
       "      <td>2</td>\n",
       "    </tr>\n",
       "    <tr>\n",
       "      <th>24/7 - The Lalit Ashok Bangalore</th>\n",
       "      <td>2</td>\n",
       "      <td>2</td>\n",
       "      <td>2</td>\n",
       "      <td>2</td>\n",
       "      <td>2</td>\n",
       "      <td>2</td>\n",
       "      <td>2</td>\n",
       "      <td>2</td>\n",
       "      <td>2</td>\n",
       "      <td>2</td>\n",
       "    </tr>\n",
       "    <tr>\n",
       "      <th>24/7 Food Service</th>\n",
       "      <td>2</td>\n",
       "      <td>2</td>\n",
       "      <td>2</td>\n",
       "      <td>2</td>\n",
       "      <td>2</td>\n",
       "      <td>2</td>\n",
       "      <td>2</td>\n",
       "      <td>2</td>\n",
       "      <td>2</td>\n",
       "      <td>2</td>\n",
       "    </tr>\n",
       "    <tr>\n",
       "      <th>24@43 - The Oterra</th>\n",
       "      <td>2</td>\n",
       "      <td>2</td>\n",
       "      <td>2</td>\n",
       "      <td>2</td>\n",
       "      <td>2</td>\n",
       "      <td>2</td>\n",
       "      <td>2</td>\n",
       "      <td>2</td>\n",
       "      <td>2</td>\n",
       "      <td>2</td>\n",
       "    </tr>\n",
       "    <tr>\n",
       "      <th>24th Main</th>\n",
       "      <td>4</td>\n",
       "      <td>4</td>\n",
       "      <td>4</td>\n",
       "      <td>4</td>\n",
       "      <td>4</td>\n",
       "      <td>4</td>\n",
       "      <td>4</td>\n",
       "      <td>4</td>\n",
       "      <td>4</td>\n",
       "      <td>4</td>\n",
       "    </tr>\n",
       "    <tr>\n",
       "      <th>29 Degrees North</th>\n",
       "      <td>3</td>\n",
       "      <td>3</td>\n",
       "      <td>3</td>\n",
       "      <td>3</td>\n",
       "      <td>3</td>\n",
       "      <td>3</td>\n",
       "      <td>3</td>\n",
       "      <td>3</td>\n",
       "      <td>3</td>\n",
       "      <td>3</td>\n",
       "    </tr>\n",
       "    <tr>\n",
       "      <th>2nd Home Restaurant</th>\n",
       "      <td>4</td>\n",
       "      <td>4</td>\n",
       "      <td>4</td>\n",
       "      <td>4</td>\n",
       "      <td>4</td>\n",
       "      <td>4</td>\n",
       "      <td>4</td>\n",
       "      <td>4</td>\n",
       "      <td>4</td>\n",
       "      <td>4</td>\n",
       "    </tr>\n",
       "    <tr>\n",
       "      <th>3 Leafs</th>\n",
       "      <td>2</td>\n",
       "      <td>2</td>\n",
       "      <td>2</td>\n",
       "      <td>2</td>\n",
       "      <td>2</td>\n",
       "      <td>2</td>\n",
       "      <td>2</td>\n",
       "      <td>2</td>\n",
       "      <td>2</td>\n",
       "      <td>2</td>\n",
       "    </tr>\n",
       "    <tr>\n",
       "      <th>3 Spice</th>\n",
       "      <td>5</td>\n",
       "      <td>5</td>\n",
       "      <td>5</td>\n",
       "      <td>5</td>\n",
       "      <td>5</td>\n",
       "      <td>5</td>\n",
       "      <td>5</td>\n",
       "      <td>5</td>\n",
       "      <td>5</td>\n",
       "      <td>5</td>\n",
       "    </tr>\n",
       "    <tr>\n",
       "      <th>30 Square</th>\n",
       "      <td>7</td>\n",
       "      <td>7</td>\n",
       "      <td>7</td>\n",
       "      <td>7</td>\n",
       "      <td>7</td>\n",
       "      <td>7</td>\n",
       "      <td>7</td>\n",
       "      <td>7</td>\n",
       "      <td>7</td>\n",
       "      <td>7</td>\n",
       "    </tr>\n",
       "    <tr>\n",
       "      <th>360 Atoms Restaurant And Cafe</th>\n",
       "      <td>3</td>\n",
       "      <td>3</td>\n",
       "      <td>3</td>\n",
       "      <td>3</td>\n",
       "      <td>3</td>\n",
       "      <td>3</td>\n",
       "      <td>3</td>\n",
       "      <td>3</td>\n",
       "      <td>3</td>\n",
       "      <td>3</td>\n",
       "    </tr>\n",
       "    <tr>\n",
       "      <th>36th Cross Coffee Mane</th>\n",
       "      <td>5</td>\n",
       "      <td>5</td>\n",
       "      <td>5</td>\n",
       "      <td>5</td>\n",
       "      <td>5</td>\n",
       "      <td>5</td>\n",
       "      <td>5</td>\n",
       "      <td>5</td>\n",
       "      <td>5</td>\n",
       "      <td>5</td>\n",
       "    </tr>\n",
       "    <tr>\n",
       "      <th>37 China Town</th>\n",
       "      <td>2</td>\n",
       "      <td>2</td>\n",
       "      <td>2</td>\n",
       "      <td>2</td>\n",
       "      <td>2</td>\n",
       "      <td>2</td>\n",
       "      <td>2</td>\n",
       "      <td>2</td>\n",
       "      <td>2</td>\n",
       "      <td>2</td>\n",
       "    </tr>\n",
       "    <tr>\n",
       "      <th>3B's - Buddies, Bar &amp; Barbecues</th>\n",
       "      <td>15</td>\n",
       "      <td>15</td>\n",
       "      <td>15</td>\n",
       "      <td>15</td>\n",
       "      <td>15</td>\n",
       "      <td>15</td>\n",
       "      <td>15</td>\n",
       "      <td>15</td>\n",
       "      <td>15</td>\n",
       "      <td>15</td>\n",
       "    </tr>\n",
       "    <tr>\n",
       "      <th>3G's - Gulp &amp; Groove</th>\n",
       "      <td>8</td>\n",
       "      <td>8</td>\n",
       "      <td>8</td>\n",
       "      <td>8</td>\n",
       "      <td>8</td>\n",
       "      <td>8</td>\n",
       "      <td>8</td>\n",
       "      <td>8</td>\n",
       "      <td>8</td>\n",
       "      <td>8</td>\n",
       "    </tr>\n",
       "    <tr>\n",
       "      <th>3rd Innings</th>\n",
       "      <td>3</td>\n",
       "      <td>3</td>\n",
       "      <td>3</td>\n",
       "      <td>3</td>\n",
       "      <td>3</td>\n",
       "      <td>3</td>\n",
       "      <td>3</td>\n",
       "      <td>3</td>\n",
       "      <td>3</td>\n",
       "      <td>3</td>\n",
       "    </tr>\n",
       "    <tr>\n",
       "      <th>4 Mangoes</th>\n",
       "      <td>2</td>\n",
       "      <td>2</td>\n",
       "      <td>2</td>\n",
       "      <td>2</td>\n",
       "      <td>2</td>\n",
       "      <td>2</td>\n",
       "      <td>2</td>\n",
       "      <td>2</td>\n",
       "      <td>2</td>\n",
       "      <td>2</td>\n",
       "    </tr>\n",
       "    <tr>\n",
       "      <th>4 Seasons Restaurant</th>\n",
       "      <td>4</td>\n",
       "      <td>4</td>\n",
       "      <td>4</td>\n",
       "      <td>4</td>\n",
       "      <td>4</td>\n",
       "      <td>4</td>\n",
       "      <td>4</td>\n",
       "      <td>4</td>\n",
       "      <td>4</td>\n",
       "      <td>4</td>\n",
       "    </tr>\n",
       "    <tr>\n",
       "      <th>4 States</th>\n",
       "      <td>1</td>\n",
       "      <td>1</td>\n",
       "      <td>1</td>\n",
       "      <td>1</td>\n",
       "      <td>1</td>\n",
       "      <td>1</td>\n",
       "      <td>1</td>\n",
       "      <td>1</td>\n",
       "      <td>1</td>\n",
       "      <td>1</td>\n",
       "    </tr>\n",
       "    <tr>\n",
       "      <th>46 Ounces Brewgarden</th>\n",
       "      <td>2</td>\n",
       "      <td>2</td>\n",
       "      <td>2</td>\n",
       "      <td>2</td>\n",
       "      <td>2</td>\n",
       "      <td>2</td>\n",
       "      <td>2</td>\n",
       "      <td>2</td>\n",
       "      <td>2</td>\n",
       "      <td>2</td>\n",
       "    </tr>\n",
       "    <tr>\n",
       "      <th>4700BC Popcorn</th>\n",
       "      <td>1</td>\n",
       "      <td>1</td>\n",
       "      <td>1</td>\n",
       "      <td>1</td>\n",
       "      <td>1</td>\n",
       "      <td>1</td>\n",
       "      <td>1</td>\n",
       "      <td>1</td>\n",
       "      <td>1</td>\n",
       "      <td>1</td>\n",
       "    </tr>\n",
       "    <tr>\n",
       "      <th>4Foodiez</th>\n",
       "      <td>2</td>\n",
       "      <td>2</td>\n",
       "      <td>2</td>\n",
       "      <td>2</td>\n",
       "      <td>2</td>\n",
       "      <td>2</td>\n",
       "      <td>2</td>\n",
       "      <td>2</td>\n",
       "      <td>2</td>\n",
       "      <td>2</td>\n",
       "    </tr>\n",
       "    <tr>\n",
       "      <th>4Foodiez - The Restaurant</th>\n",
       "      <td>2</td>\n",
       "      <td>2</td>\n",
       "      <td>2</td>\n",
       "      <td>2</td>\n",
       "      <td>2</td>\n",
       "      <td>2</td>\n",
       "      <td>2</td>\n",
       "      <td>2</td>\n",
       "      <td>2</td>\n",
       "      <td>2</td>\n",
       "    </tr>\n",
       "    <tr>\n",
       "      <th>4K Biryani</th>\n",
       "      <td>1</td>\n",
       "      <td>1</td>\n",
       "      <td>1</td>\n",
       "      <td>1</td>\n",
       "      <td>1</td>\n",
       "      <td>1</td>\n",
       "      <td>1</td>\n",
       "      <td>1</td>\n",
       "      <td>1</td>\n",
       "      <td>1</td>\n",
       "    </tr>\n",
       "    <tr>\n",
       "      <th>4th Tea Block</th>\n",
       "      <td>2</td>\n",
       "      <td>2</td>\n",
       "      <td>2</td>\n",
       "      <td>2</td>\n",
       "      <td>2</td>\n",
       "      <td>2</td>\n",
       "      <td>2</td>\n",
       "      <td>2</td>\n",
       "      <td>2</td>\n",
       "      <td>2</td>\n",
       "    </tr>\n",
       "    <tr>\n",
       "      <th>5 Star Food</th>\n",
       "      <td>1</td>\n",
       "      <td>1</td>\n",
       "      <td>1</td>\n",
       "      <td>1</td>\n",
       "      <td>1</td>\n",
       "      <td>1</td>\n",
       "      <td>1</td>\n",
       "      <td>1</td>\n",
       "      <td>1</td>\n",
       "      <td>1</td>\n",
       "    </tr>\n",
       "  </tbody>\n",
       "</table>\n",
       "</div>"
      ],
      "text/plain": [
       "                                           online_order  booking  rating  \\\n",
       "restaurants                                                                \n",
       "#FeelTheROLL                                          2        2       2   \n",
       "#L-81 Cafe                                            4        4       4   \n",
       "#refuel                                               3        3       3   \n",
       "1000 B.C                                              2        2       2   \n",
       "100ÃÂÃÂÃÂÃÂÃÂÃÂÃÂÃÂ°C                  2        2       2   \n",
       "11 to 11 Express Biriyanis                            2        2       2   \n",
       "1131 Bar + Kitchen                                    6        6       6   \n",
       "12th Main - Grand Mercure                             6        6       6   \n",
       "1441 Pizzeria                                         5        5       5   \n",
       "1522 - The Pub                                       24       24      24   \n",
       "154 Breakfast Club                                   13       13      13   \n",
       "1722 Urban Bistro                                    10       10      10   \n",
       "18+ Ice Cafe                                          4        4       4   \n",
       "1947                                                 14       14      14   \n",
       "1980s Games Cafe                                      3        3       3   \n",
       "1992 Chats - Space                                    2        2       2   \n",
       "1Q1                                                  16       16      16   \n",
       "1TO3 Kitchen                                          1        1       1   \n",
       "2 Statez                                              3        3       3   \n",
       "20 Char - Sterlings MAC Hotel                         8        8       8   \n",
       "20 Feet High                                         16       16      16   \n",
       "21 C - La Marvella Sarovar Premiere Hotel             2        2       2   \n",
       "24 Carats - The Capitol                               4        4       4   \n",
       "24 Hours Cake Delivery                                4        4       4   \n",
       "24 Hours Coffee Drop - La Classic                     2        2       2   \n",
       "24/7 - The Lalit Ashok Bangalore                      2        2       2   \n",
       "24/7 Food Service                                     2        2       2   \n",
       "24@43 - The Oterra                                    2        2       2   \n",
       "24th Main                                             4        4       4   \n",
       "29 Degrees North                                      3        3       3   \n",
       "2nd Home Restaurant                                   4        4       4   \n",
       "3 Leafs                                               2        2       2   \n",
       "3 Spice                                               5        5       5   \n",
       "30 Square                                             7        7       7   \n",
       "360 Atoms Restaurant And Cafe                         3        3       3   \n",
       "36th Cross Coffee Mane                                5        5       5   \n",
       "37 China Town                                         2        2       2   \n",
       "3B's - Buddies, Bar & Barbecues                      15       15      15   \n",
       "3G's - Gulp & Groove                                  8        8       8   \n",
       "3rd Innings                                           3        3       3   \n",
       "4 Mangoes                                             2        2       2   \n",
       "4 Seasons Restaurant                                  4        4       4   \n",
       "4 States                                              1        1       1   \n",
       "46 Ounces Brewgarden                                  2        2       2   \n",
       "4700BC Popcorn                                        1        1       1   \n",
       "4Foodiez                                              2        2       2   \n",
       "4Foodiez - The Restaurant                             2        2       2   \n",
       "4K Biryani                                            1        1       1   \n",
       "4th Tea Block                                         2        2       2   \n",
       "5 Star Food                                           1        1       1   \n",
       "\n",
       "                                           votes  location  rest_type  \\\n",
       "restaurants                                                             \n",
       "#FeelTheROLL                                   2         2          2   \n",
       "#L-81 Cafe                                     4         4          4   \n",
       "#refuel                                        3         3          3   \n",
       "1000 B.C                                       2         2          2   \n",
       "100ÃÂÃÂÃÂÃÂÃÂÃÂÃÂÃÂ°C           2         2          2   \n",
       "11 to 11 Express Biriyanis                     2         2          2   \n",
       "1131 Bar + Kitchen                             6         6          6   \n",
       "12th Main - Grand Mercure                      6         6          6   \n",
       "1441 Pizzeria                                  5         5          5   \n",
       "1522 - The Pub                                24        24         24   \n",
       "154 Breakfast Club                            13        13         13   \n",
       "1722 Urban Bistro                             10        10         10   \n",
       "18+ Ice Cafe                                   4         4          4   \n",
       "1947                                          14        14         14   \n",
       "1980s Games Cafe                               3         3          3   \n",
       "1992 Chats - Space                             2         2          2   \n",
       "1Q1                                           16        16         16   \n",
       "1TO3 Kitchen                                   1         1          1   \n",
       "2 Statez                                       3         3          3   \n",
       "20 Char - Sterlings MAC Hotel                  8         8          8   \n",
       "20 Feet High                                  16        16         16   \n",
       "21 C - La Marvella Sarovar Premiere Hotel      2         2          2   \n",
       "24 Carats - The Capitol                        4         4          4   \n",
       "24 Hours Cake Delivery                         4         4          4   \n",
       "24 Hours Coffee Drop - La Classic              2         2          2   \n",
       "24/7 - The Lalit Ashok Bangalore               2         2          2   \n",
       "24/7 Food Service                              2         2          2   \n",
       "24@43 - The Oterra                             2         2          2   \n",
       "24th Main                                      4         4          4   \n",
       "29 Degrees North                               3         3          3   \n",
       "2nd Home Restaurant                            4         4          4   \n",
       "3 Leafs                                        2         2          2   \n",
       "3 Spice                                        5         5          5   \n",
       "30 Square                                      7         7          7   \n",
       "360 Atoms Restaurant And Cafe                  3         3          3   \n",
       "36th Cross Coffee Mane                         5         5          5   \n",
       "37 China Town                                  2         2          2   \n",
       "3B's - Buddies, Bar & Barbecues               15        15         15   \n",
       "3G's - Gulp & Groove                           8         8          8   \n",
       "3rd Innings                                    3         3          3   \n",
       "4 Mangoes                                      2         2          2   \n",
       "4 Seasons Restaurant                           4         4          4   \n",
       "4 States                                       1         1          1   \n",
       "46 Ounces Brewgarden                           2         2          2   \n",
       "4700BC Popcorn                                 1         1          1   \n",
       "4Foodiez                                       2         2          2   \n",
       "4Foodiez - The Restaurant                      2         2          2   \n",
       "4K Biryani                                     1         1          1   \n",
       "4th Tea Block                                  2         2          2   \n",
       "5 Star Food                                    1         1          1   \n",
       "\n",
       "                                           cuisines  cost  types  rateNEW  \n",
       "restaurants                                                                \n",
       "#FeelTheROLL                                      2     2      2        2  \n",
       "#L-81 Cafe                                        4     4      4        4  \n",
       "#refuel                                           3     3      3        3  \n",
       "1000 B.C                                          2     2      2        2  \n",
       "100ÃÂÃÂÃÂÃÂÃÂÃÂÃÂÃÂ°C              2     2      2        2  \n",
       "11 to 11 Express Biriyanis                        2     2      2        2  \n",
       "1131 Bar + Kitchen                                6     6      6        6  \n",
       "12th Main - Grand Mercure                         6     6      6        6  \n",
       "1441 Pizzeria                                     5     5      5        5  \n",
       "1522 - The Pub                                   24    24     24       24  \n",
       "154 Breakfast Club                               13    13     13       13  \n",
       "1722 Urban Bistro                                10    10     10       10  \n",
       "18+ Ice Cafe                                      4     4      4        4  \n",
       "1947                                             14    14     14       14  \n",
       "1980s Games Cafe                                  3     3      3        3  \n",
       "1992 Chats - Space                                2     2      2        2  \n",
       "1Q1                                              16    16     16       16  \n",
       "1TO3 Kitchen                                      1     1      1        1  \n",
       "2 Statez                                          3     3      3        3  \n",
       "20 Char - Sterlings MAC Hotel                     8     8      8        8  \n",
       "20 Feet High                                     16    16     16       16  \n",
       "21 C - La Marvella Sarovar Premiere Hotel         2     2      2        2  \n",
       "24 Carats - The Capitol                           4     4      4        4  \n",
       "24 Hours Cake Delivery                            4     4      4        4  \n",
       "24 Hours Coffee Drop - La Classic                 2     2      2        2  \n",
       "24/7 - The Lalit Ashok Bangalore                  2     2      2        2  \n",
       "24/7 Food Service                                 2     2      2        2  \n",
       "24@43 - The Oterra                                2     2      2        2  \n",
       "24th Main                                         4     4      4        4  \n",
       "29 Degrees North                                  3     3      3        3  \n",
       "2nd Home Restaurant                               4     4      4        4  \n",
       "3 Leafs                                           2     2      2        2  \n",
       "3 Spice                                           5     5      5        5  \n",
       "30 Square                                         7     7      7        7  \n",
       "360 Atoms Restaurant And Cafe                     3     3      3        3  \n",
       "36th Cross Coffee Mane                            5     5      5        5  \n",
       "37 China Town                                     2     2      2        2  \n",
       "3B's - Buddies, Bar & Barbecues                  15    15     15       15  \n",
       "3G's - Gulp & Groove                              8     8      8        8  \n",
       "3rd Innings                                       3     3      3        3  \n",
       "4 Mangoes                                         2     2      2        2  \n",
       "4 Seasons Restaurant                              4     4      4        4  \n",
       "4 States                                          1     1      1        1  \n",
       "46 Ounces Brewgarden                              2     2      2        2  \n",
       "4700BC Popcorn                                    1     1      1        1  \n",
       "4Foodiez                                          2     2      2        2  \n",
       "4Foodiez - The Restaurant                         2     2      2        2  \n",
       "4K Biryani                                        1     1      1        1  \n",
       "4th Tea Block                                     2     2      2        2  \n",
       "5 Star Food                                       1     1      1        1  "
      ]
     },
     "execution_count": 51,
     "metadata": {},
     "output_type": "execute_result"
    }
   ],
   "source": [
    "zm.groupby('restaurants').count().head(50)\n"
   ]
  },
  {
   "cell_type": "code",
   "execution_count": 52,
   "id": "e76dc1d0",
   "metadata": {},
   "outputs": [],
   "source": [
    "zm['restaurants']=zm['restaurants'].str.replace('[Ãx][^A-Za-z]+','',regex=True) \n",
    "#Regular Expression, is a sequence of characters that forms a search pattern.\n",
    "# [^A-Za-z] \t  Returns a match for any character EXCEPT A-Z and a-z\n",
    "# This matches a single non-letter. So each single non-letter is replaced by a +. You need to say \"one or more\""
   ]
  },
  {
   "cell_type": "code",
   "execution_count": 53,
   "id": "adb89365",
   "metadata": {},
   "outputs": [
    {
     "data": {
      "text/html": [
       "<div>\n",
       "<style scoped>\n",
       "    .dataframe tbody tr th:only-of-type {\n",
       "        vertical-align: middle;\n",
       "    }\n",
       "\n",
       "    .dataframe tbody tr th {\n",
       "        vertical-align: top;\n",
       "    }\n",
       "\n",
       "    .dataframe thead th {\n",
       "        text-align: right;\n",
       "    }\n",
       "</style>\n",
       "<table border=\"1\" class=\"dataframe\">\n",
       "  <thead>\n",
       "    <tr style=\"text-align: right;\">\n",
       "      <th></th>\n",
       "      <th>online_order</th>\n",
       "      <th>booking</th>\n",
       "      <th>rating</th>\n",
       "      <th>votes</th>\n",
       "      <th>location</th>\n",
       "      <th>rest_type</th>\n",
       "      <th>cuisines</th>\n",
       "      <th>cost</th>\n",
       "      <th>types</th>\n",
       "      <th>rateNEW</th>\n",
       "    </tr>\n",
       "    <tr>\n",
       "      <th>restaurants</th>\n",
       "      <th></th>\n",
       "      <th></th>\n",
       "      <th></th>\n",
       "      <th></th>\n",
       "      <th></th>\n",
       "      <th></th>\n",
       "      <th></th>\n",
       "      <th></th>\n",
       "      <th></th>\n",
       "      <th></th>\n",
       "    </tr>\n",
       "  </thead>\n",
       "  <tbody>\n",
       "    <tr>\n",
       "      <th>#FeelTheROLL</th>\n",
       "      <td>2</td>\n",
       "      <td>2</td>\n",
       "      <td>2</td>\n",
       "      <td>2</td>\n",
       "      <td>2</td>\n",
       "      <td>2</td>\n",
       "      <td>2</td>\n",
       "      <td>2</td>\n",
       "      <td>2</td>\n",
       "      <td>2</td>\n",
       "    </tr>\n",
       "    <tr>\n",
       "      <th>#L-81 Cafe</th>\n",
       "      <td>4</td>\n",
       "      <td>4</td>\n",
       "      <td>4</td>\n",
       "      <td>4</td>\n",
       "      <td>4</td>\n",
       "      <td>4</td>\n",
       "      <td>4</td>\n",
       "      <td>4</td>\n",
       "      <td>4</td>\n",
       "      <td>4</td>\n",
       "    </tr>\n",
       "    <tr>\n",
       "      <th>#refuel</th>\n",
       "      <td>3</td>\n",
       "      <td>3</td>\n",
       "      <td>3</td>\n",
       "      <td>3</td>\n",
       "      <td>3</td>\n",
       "      <td>3</td>\n",
       "      <td>3</td>\n",
       "      <td>3</td>\n",
       "      <td>3</td>\n",
       "      <td>3</td>\n",
       "    </tr>\n",
       "    <tr>\n",
       "      <th>1000 B.C</th>\n",
       "      <td>2</td>\n",
       "      <td>2</td>\n",
       "      <td>2</td>\n",
       "      <td>2</td>\n",
       "      <td>2</td>\n",
       "      <td>2</td>\n",
       "      <td>2</td>\n",
       "      <td>2</td>\n",
       "      <td>2</td>\n",
       "      <td>2</td>\n",
       "    </tr>\n",
       "    <tr>\n",
       "      <th>100C</th>\n",
       "      <td>2</td>\n",
       "      <td>2</td>\n",
       "      <td>2</td>\n",
       "      <td>2</td>\n",
       "      <td>2</td>\n",
       "      <td>2</td>\n",
       "      <td>2</td>\n",
       "      <td>2</td>\n",
       "      <td>2</td>\n",
       "      <td>2</td>\n",
       "    </tr>\n",
       "    <tr>\n",
       "      <th>11 to 11 Express Biriyanis</th>\n",
       "      <td>2</td>\n",
       "      <td>2</td>\n",
       "      <td>2</td>\n",
       "      <td>2</td>\n",
       "      <td>2</td>\n",
       "      <td>2</td>\n",
       "      <td>2</td>\n",
       "      <td>2</td>\n",
       "      <td>2</td>\n",
       "      <td>2</td>\n",
       "    </tr>\n",
       "    <tr>\n",
       "      <th>1131 Bar + Kitchen</th>\n",
       "      <td>6</td>\n",
       "      <td>6</td>\n",
       "      <td>6</td>\n",
       "      <td>6</td>\n",
       "      <td>6</td>\n",
       "      <td>6</td>\n",
       "      <td>6</td>\n",
       "      <td>6</td>\n",
       "      <td>6</td>\n",
       "      <td>6</td>\n",
       "    </tr>\n",
       "    <tr>\n",
       "      <th>12th Main - Grand Mercure</th>\n",
       "      <td>6</td>\n",
       "      <td>6</td>\n",
       "      <td>6</td>\n",
       "      <td>6</td>\n",
       "      <td>6</td>\n",
       "      <td>6</td>\n",
       "      <td>6</td>\n",
       "      <td>6</td>\n",
       "      <td>6</td>\n",
       "      <td>6</td>\n",
       "    </tr>\n",
       "    <tr>\n",
       "      <th>1441 Pizzeria</th>\n",
       "      <td>5</td>\n",
       "      <td>5</td>\n",
       "      <td>5</td>\n",
       "      <td>5</td>\n",
       "      <td>5</td>\n",
       "      <td>5</td>\n",
       "      <td>5</td>\n",
       "      <td>5</td>\n",
       "      <td>5</td>\n",
       "      <td>5</td>\n",
       "    </tr>\n",
       "    <tr>\n",
       "      <th>1522 - The Pub</th>\n",
       "      <td>24</td>\n",
       "      <td>24</td>\n",
       "      <td>24</td>\n",
       "      <td>24</td>\n",
       "      <td>24</td>\n",
       "      <td>24</td>\n",
       "      <td>24</td>\n",
       "      <td>24</td>\n",
       "      <td>24</td>\n",
       "      <td>24</td>\n",
       "    </tr>\n",
       "  </tbody>\n",
       "</table>\n",
       "</div>"
      ],
      "text/plain": [
       "                            online_order  booking  rating  votes  location  \\\n",
       "restaurants                                                                  \n",
       "#FeelTheROLL                           2        2       2      2         2   \n",
       "#L-81 Cafe                             4        4       4      4         4   \n",
       "#refuel                                3        3       3      3         3   \n",
       "1000 B.C                               2        2       2      2         2   \n",
       "100C                                   2        2       2      2         2   \n",
       "11 to 11 Express Biriyanis             2        2       2      2         2   \n",
       "1131 Bar + Kitchen                     6        6       6      6         6   \n",
       "12th Main - Grand Mercure              6        6       6      6         6   \n",
       "1441 Pizzeria                          5        5       5      5         5   \n",
       "1522 - The Pub                        24       24      24     24        24   \n",
       "\n",
       "                            rest_type  cuisines  cost  types  rateNEW  \n",
       "restaurants                                                            \n",
       "#FeelTheROLL                        2         2     2      2        2  \n",
       "#L-81 Cafe                          4         4     4      4        4  \n",
       "#refuel                             3         3     3      3        3  \n",
       "1000 B.C                            2         2     2      2        2  \n",
       "100C                                2         2     2      2        2  \n",
       "11 to 11 Express Biriyanis          2         2     2      2        2  \n",
       "1131 Bar + Kitchen                  6         6     6      6        6  \n",
       "12th Main - Grand Mercure           6         6     6      6        6  \n",
       "1441 Pizzeria                       5         5     5      5        5  \n",
       "1522 - The Pub                     24        24    24     24       24  "
      ]
     },
     "execution_count": 53,
     "metadata": {},
     "output_type": "execute_result"
    }
   ],
   "source": [
    "zm.groupby('restaurants').count().head(10)"
   ]
  },
  {
   "cell_type": "markdown",
   "id": "500879b8",
   "metadata": {},
   "source": [
    "#### (10) column : votes"
   ]
  },
  {
   "cell_type": "code",
   "execution_count": 54,
   "id": "6c8ae9f4",
   "metadata": {},
   "outputs": [
    {
     "data": {
      "text/plain": [
       "0"
      ]
     },
     "execution_count": 54,
     "metadata": {},
     "output_type": "execute_result"
    }
   ],
   "source": [
    "zm.votes.isnull().sum()"
   ]
  },
  {
   "cell_type": "code",
   "execution_count": 55,
   "id": "2ef78e12",
   "metadata": {},
   "outputs": [
    {
     "name": "stdout",
     "output_type": "stream",
     "text": [
      "<class 'pandas.core.frame.DataFrame'>\n",
      "Int64Index: 30958 entries, 0 to 51716\n",
      "Data columns (total 11 columns):\n",
      " #   Column        Non-Null Count  Dtype  \n",
      "---  ------        --------------  -----  \n",
      " 0   restaurants   30958 non-null  object \n",
      " 1   online_order  30958 non-null  object \n",
      " 2   booking       30958 non-null  object \n",
      " 3   rating        30958 non-null  float64\n",
      " 4   votes         30958 non-null  int64  \n",
      " 5   location      30958 non-null  object \n",
      " 6   rest_type     30958 non-null  object \n",
      " 7   cuisines      30958 non-null  object \n",
      " 8   cost          30958 non-null  int64  \n",
      " 9   types         30958 non-null  object \n",
      " 10  rateNEW       30958 non-null  float64\n",
      "dtypes: float64(2), int64(2), object(7)\n",
      "memory usage: 2.8+ MB\n"
     ]
    }
   ],
   "source": [
    "zm.info()"
   ]
  },
  {
   "cell_type": "code",
   "execution_count": 56,
   "id": "07149c22",
   "metadata": {},
   "outputs": [
    {
     "data": {
      "text/plain": [
       "restaurants     0\n",
       "online_order    0\n",
       "booking         0\n",
       "rating          0\n",
       "votes           0\n",
       "location        0\n",
       "rest_type       0\n",
       "cuisines        0\n",
       "cost            0\n",
       "types           0\n",
       "rateNEW         0\n",
       "dtype: int64"
      ]
     },
     "execution_count": 56,
     "metadata": {},
     "output_type": "execute_result"
    }
   ],
   "source": [
    "zm.isnull().sum()"
   ]
  },
  {
   "cell_type": "code",
   "execution_count": 57,
   "id": "b2406024",
   "metadata": {},
   "outputs": [
    {
     "data": {
      "text/plain": [
       "(30958, 11)"
      ]
     },
     "execution_count": 57,
     "metadata": {},
     "output_type": "execute_result"
    }
   ],
   "source": [
    "zm.shape"
   ]
  },
  {
   "cell_type": "code",
   "execution_count": 58,
   "id": "62ef0c52",
   "metadata": {},
   "outputs": [],
   "source": [
    "#del zm['rateNEW']"
   ]
  },
  {
   "cell_type": "code",
   "execution_count": 59,
   "id": "cd52f363",
   "metadata": {},
   "outputs": [],
   "source": [
    "zm.to_csv('E:/project/zomato_EDA/clean_zomato.csv')\n"
   ]
  },
  {
   "cell_type": "markdown",
   "id": "800cadfe",
   "metadata": {},
   "source": [
    "###### EDA done and dusted  :-D"
   ]
  },
  {
   "cell_type": "markdown",
   "id": "4029c606",
   "metadata": {},
   "source": [
    "# Data visualization:\n"
   ]
  },
  {
   "cell_type": "code",
   "execution_count": 60,
   "id": "1d056f15",
   "metadata": {},
   "outputs": [],
   "source": [
    "#Restaurants delivering Online or not\n",
    "#Table booking Rate vs Rate\n",
    "#Best Location\n",
    "#Relation between Location and Rating\n",
    "#Cost of Restaurant\n",
    "#No. of restaurants in a Location\n",
    "#Restaurant type\n",
    "#Most famous restaurant chains in Bengaluru"
   ]
  },
  {
   "cell_type": "code",
   "execution_count": 61,
   "id": "0ef3fb3e",
   "metadata": {},
   "outputs": [
    {
     "name": "stderr",
     "output_type": "stream",
     "text": [
      "C:\\ProgramData\\Anaconda3\\lib\\site-packages\\seaborn\\_decorators.py:36: FutureWarning: Pass the following variable as a keyword arg: x. From version 0.12, the only valid positional argument will be `data`, and passing other arguments without an explicit keyword will result in an error or misinterpretation.\n",
      "  warnings.warn(\n"
     ]
    },
    {
     "data": {
      "image/png": "[encoded data removed]",
      "text/plain": [
       "<Figure size 432x288 with 1 Axes>"
      ]
     },
     "metadata": {
      "needs_background": "light"
     },
     "output_type": "display_data"
    }
   ],
   "source": [
    "sns.countplot(zm.online_order)\n",
    "plt.show()"
   ]
  },
  {
   "cell_type": "code",
   "execution_count": 62,
   "id": "9301b184",
   "metadata": {},
   "outputs": [
    {
     "data": {
      "image/png": "[encoded data removed]",
      "text/plain": [
       "<Figure size 432x288 with 1 Axes>"
      ]
     },
     "metadata": {
      "needs_background": "light"
     },
     "output_type": "display_data"
    }
   ],
   "source": [
    "plt.hist(zm.rating)\n",
    "plt.xlabel('rating')\n",
    "plt.ylabel('count of aggregrate rating')\n",
    "plt.title('hist- rating')\n",
    "plt.show()"
   ]
  },
  {
   "cell_type": "code",
   "execution_count": 63,
   "id": "6195b2d3",
   "metadata": {},
   "outputs": [
    {
     "data": {
      "text/plain": [
       "<seaborn.axisgrid.JointGrid at 0x20553fb0a60>"
      ]
     },
     "execution_count": 63,
     "metadata": {},
     "output_type": "execute_result"
    },
    {
     "data": {
      "image/png": "[encoded data removed]",
      "text/plain": [
       "<Figure size 432x432 with 3 Axes>"
      ]
     },
     "metadata": {
      "needs_background": "light"
     },
     "output_type": "display_data"
    }
   ],
   "source": [
    "sns.jointplot(x = \"rating\", y =\"cost\", kind = \"reg\", data = zm)"
   ]
  },
  {
   "cell_type": "code",
   "execution_count": 64,
   "id": "445f2453",
   "metadata": {},
   "outputs": [
    {
     "data": {
      "text/plain": [
       "<AxesSubplot:>"
      ]
     },
     "execution_count": 64,
     "metadata": {},
     "output_type": "execute_result"
    },
    {
     "data": {
      "image/png": "[encoded data removed]",
      "text/plain": [
       "<Figure size 432x288 with 1 Axes>"
      ]
     },
     "metadata": {
      "needs_background": "light"
     },
     "output_type": "display_data"
    }
   ],
   "source": [
    "sns.heatmap(zm.isna(),yticklabels=False,cbar=False,cmap='viridis')\n"
   ]
  },
  {
   "cell_type": "code",
   "execution_count": 65,
   "id": "784d45d9",
   "metadata": {},
   "outputs": [
    {
     "data": {
      "text/html": [
       "<div>\n",
       "<style scoped>\n",
       "    .dataframe tbody tr th:only-of-type {\n",
       "        vertical-align: middle;\n",
       "    }\n",
       "\n",
       "    .dataframe tbody tr th {\n",
       "        vertical-align: top;\n",
       "    }\n",
       "\n",
       "    .dataframe thead th {\n",
       "        text-align: right;\n",
       "    }\n",
       "</style>\n",
       "<table border=\"1\" class=\"dataframe\">\n",
       "  <thead>\n",
       "    <tr style=\"text-align: right;\">\n",
       "      <th></th>\n",
       "      <th>restaurants</th>\n",
       "      <th>online_order</th>\n",
       "      <th>booking</th>\n",
       "      <th>rating</th>\n",
       "      <th>votes</th>\n",
       "      <th>location</th>\n",
       "      <th>rest_type</th>\n",
       "      <th>cuisines</th>\n",
       "      <th>cost</th>\n",
       "      <th>types</th>\n",
       "      <th>rateNEW</th>\n",
       "    </tr>\n",
       "  </thead>\n",
       "  <tbody>\n",
       "    <tr>\n",
       "      <th>0</th>\n",
       "      <td>Jalsa</td>\n",
       "      <td>Yes</td>\n",
       "      <td>Yes</td>\n",
       "      <td>4.1</td>\n",
       "      <td>775</td>\n",
       "      <td>Banashankari</td>\n",
       "      <td>Casual Dining</td>\n",
       "      <td>North Indian, Mughlai, Chinese</td>\n",
       "      <td>800</td>\n",
       "      <td>Buffet</td>\n",
       "      <td>4.1</td>\n",
       "    </tr>\n",
       "    <tr>\n",
       "      <th>1</th>\n",
       "      <td>Spice Elephant</td>\n",
       "      <td>Yes</td>\n",
       "      <td>No</td>\n",
       "      <td>4.1</td>\n",
       "      <td>787</td>\n",
       "      <td>Banashankari</td>\n",
       "      <td>Casual Dining</td>\n",
       "      <td>Chinese, North Indian, Thai</td>\n",
       "      <td>800</td>\n",
       "      <td>Buffet</td>\n",
       "      <td>4.1</td>\n",
       "    </tr>\n",
       "    <tr>\n",
       "      <th>2</th>\n",
       "      <td>San Churro Cafe</td>\n",
       "      <td>Yes</td>\n",
       "      <td>No</td>\n",
       "      <td>3.8</td>\n",
       "      <td>918</td>\n",
       "      <td>Banashankari</td>\n",
       "      <td>Cafe, Casual Dining</td>\n",
       "      <td>Cafe, Mexican, Italian</td>\n",
       "      <td>800</td>\n",
       "      <td>Buffet</td>\n",
       "      <td>3.8</td>\n",
       "    </tr>\n",
       "    <tr>\n",
       "      <th>3</th>\n",
       "      <td>Addhuri Udupi Bhojana</td>\n",
       "      <td>No</td>\n",
       "      <td>No</td>\n",
       "      <td>3.7</td>\n",
       "      <td>88</td>\n",
       "      <td>Banashankari</td>\n",
       "      <td>Quick Bites</td>\n",
       "      <td>South Indian, North Indian</td>\n",
       "      <td>300</td>\n",
       "      <td>Buffet</td>\n",
       "      <td>3.7</td>\n",
       "    </tr>\n",
       "    <tr>\n",
       "      <th>4</th>\n",
       "      <td>Grand Village</td>\n",
       "      <td>No</td>\n",
       "      <td>No</td>\n",
       "      <td>3.8</td>\n",
       "      <td>166</td>\n",
       "      <td>Basavanagudi</td>\n",
       "      <td>Casual Dining</td>\n",
       "      <td>North Indian, Rajasthani</td>\n",
       "      <td>600</td>\n",
       "      <td>Buffet</td>\n",
       "      <td>3.8</td>\n",
       "    </tr>\n",
       "    <tr>\n",
       "      <th>...</th>\n",
       "      <td>...</td>\n",
       "      <td>...</td>\n",
       "      <td>...</td>\n",
       "      <td>...</td>\n",
       "      <td>...</td>\n",
       "      <td>...</td>\n",
       "      <td>...</td>\n",
       "      <td>...</td>\n",
       "      <td>...</td>\n",
       "      <td>...</td>\n",
       "      <td>...</td>\n",
       "    </tr>\n",
       "    <tr>\n",
       "      <th>51709</th>\n",
       "      <td>The Farm House Bar n Grill</td>\n",
       "      <td>No</td>\n",
       "      <td>No</td>\n",
       "      <td>3.7</td>\n",
       "      <td>34</td>\n",
       "      <td>Whitefield</td>\n",
       "      <td>Casual Dining, Bar</td>\n",
       "      <td>North Indian, Continental</td>\n",
       "      <td>800</td>\n",
       "      <td>Pubs and bars</td>\n",
       "      <td>3.7</td>\n",
       "    </tr>\n",
       "    <tr>\n",
       "      <th>51711</th>\n",
       "      <td>Bhagini</td>\n",
       "      <td>No</td>\n",
       "      <td>No</td>\n",
       "      <td>2.5</td>\n",
       "      <td>81</td>\n",
       "      <td>Whitefield</td>\n",
       "      <td>Casual Dining, Bar</td>\n",
       "      <td>Andhra, South Indian, Chinese, North Indian</td>\n",
       "      <td>800</td>\n",
       "      <td>Pubs and bars</td>\n",
       "      <td>2.5</td>\n",
       "    </tr>\n",
       "    <tr>\n",
       "      <th>51712</th>\n",
       "      <td>Best Brews - Four Points by Sheraton Bengaluru...</td>\n",
       "      <td>No</td>\n",
       "      <td>No</td>\n",
       "      <td>3.6</td>\n",
       "      <td>27</td>\n",
       "      <td>Whitefield</td>\n",
       "      <td>Bar</td>\n",
       "      <td>Continental</td>\n",
       "      <td>1500</td>\n",
       "      <td>Pubs and bars</td>\n",
       "      <td>3.6</td>\n",
       "    </tr>\n",
       "    <tr>\n",
       "      <th>51715</th>\n",
       "      <td>Chime - Sheraton Grand Bengaluru Whitefield Ho...</td>\n",
       "      <td>No</td>\n",
       "      <td>Yes</td>\n",
       "      <td>4.3</td>\n",
       "      <td>236</td>\n",
       "      <td>ITPL Main Road, Whitefield</td>\n",
       "      <td>Bar</td>\n",
       "      <td>Finger Food</td>\n",
       "      <td>2500</td>\n",
       "      <td>Pubs and bars</td>\n",
       "      <td>4.3</td>\n",
       "    </tr>\n",
       "    <tr>\n",
       "      <th>51716</th>\n",
       "      <td>The Nest - The Den Bengaluru</td>\n",
       "      <td>No</td>\n",
       "      <td>No</td>\n",
       "      <td>3.4</td>\n",
       "      <td>13</td>\n",
       "      <td>ITPL Main Road, Whitefield</td>\n",
       "      <td>Bar, Casual Dining</td>\n",
       "      <td>Finger Food, North Indian, Continental</td>\n",
       "      <td>1500</td>\n",
       "      <td>Pubs and bars</td>\n",
       "      <td>3.4</td>\n",
       "    </tr>\n",
       "  </tbody>\n",
       "</table>\n",
       "<p>30958 rows × 11 columns</p>\n",
       "</div>"
      ],
      "text/plain": [
       "                                             restaurants online_order booking  \\\n",
       "0                                                  Jalsa          Yes     Yes   \n",
       "1                                         Spice Elephant          Yes      No   \n",
       "2                                        San Churro Cafe          Yes      No   \n",
       "3                                  Addhuri Udupi Bhojana           No      No   \n",
       "4                                          Grand Village           No      No   \n",
       "...                                                  ...          ...     ...   \n",
       "51709                         The Farm House Bar n Grill           No      No   \n",
       "51711                                            Bhagini           No      No   \n",
       "51712  Best Brews - Four Points by Sheraton Bengaluru...           No      No   \n",
       "51715  Chime - Sheraton Grand Bengaluru Whitefield Ho...           No     Yes   \n",
       "51716                       The Nest - The Den Bengaluru           No      No   \n",
       "\n",
       "       rating  votes                    location            rest_type  \\\n",
       "0         4.1    775                Banashankari        Casual Dining   \n",
       "1         4.1    787                Banashankari        Casual Dining   \n",
       "2         3.8    918                Banashankari  Cafe, Casual Dining   \n",
       "3         3.7     88                Banashankari          Quick Bites   \n",
       "4         3.8    166                Basavanagudi        Casual Dining   \n",
       "...       ...    ...                         ...                  ...   \n",
       "51709     3.7     34                  Whitefield   Casual Dining, Bar   \n",
       "51711     2.5     81                  Whitefield   Casual Dining, Bar   \n",
       "51712     3.6     27                  Whitefield                  Bar   \n",
       "51715     4.3    236  ITPL Main Road, Whitefield                  Bar   \n",
       "51716     3.4     13  ITPL Main Road, Whitefield   Bar, Casual Dining   \n",
       "\n",
       "                                          cuisines  cost          types  \\\n",
       "0                   North Indian, Mughlai, Chinese   800         Buffet   \n",
       "1                      Chinese, North Indian, Thai   800         Buffet   \n",
       "2                           Cafe, Mexican, Italian   800         Buffet   \n",
       "3                       South Indian, North Indian   300         Buffet   \n",
       "4                         North Indian, Rajasthani   600         Buffet   \n",
       "...                                            ...   ...            ...   \n",
       "51709                    North Indian, Continental   800  Pubs and bars   \n",
       "51711  Andhra, South Indian, Chinese, North Indian   800  Pubs and bars   \n",
       "51712                                  Continental  1500  Pubs and bars   \n",
       "51715                                  Finger Food  2500  Pubs and bars   \n",
       "51716       Finger Food, North Indian, Continental  1500  Pubs and bars   \n",
       "\n",
       "       rateNEW  \n",
       "0          4.1  \n",
       "1          4.1  \n",
       "2          3.8  \n",
       "3          3.7  \n",
       "4          3.8  \n",
       "...        ...  \n",
       "51709      3.7  \n",
       "51711      2.5  \n",
       "51712      3.6  \n",
       "51715      4.3  \n",
       "51716      3.4  \n",
       "\n",
       "[30958 rows x 11 columns]"
      ]
     },
     "execution_count": 65,
     "metadata": {},
     "output_type": "execute_result"
    }
   ],
   "source": [
    "zm"
   ]
  },
  {
   "cell_type": "code",
   "execution_count": null,
   "id": "78321ac5",
   "metadata": {},
   "outputs": [],
   "source": []
  }
 ],
 "metadata": {
  "kernelspec": {
   "display_name": "Python 3 (ipykernel)",
   "language": "python",
   "name": "python3"
  },
  "language_info": {
   "codemirror_mode": {
    "name": "ipython",
    "version": 3
   },
   "file_extension": ".py",
   "mimetype": "text/x-python",
   "name": "python",
   "nbconvert_exporter": "python",
   "pygments_lexer": "ipython3",
   "version": "3.9.12"
  }
 },
 "nbformat": 4,
 "nbformat_minor": 5
}
